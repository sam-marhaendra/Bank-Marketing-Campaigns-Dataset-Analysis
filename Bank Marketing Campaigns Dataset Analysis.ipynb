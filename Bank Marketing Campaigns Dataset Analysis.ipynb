{
  "nbformat": 4,
  "nbformat_minor": 0,
  "metadata": {
    "colab": {
      "name": "KNN-Banking.ipynb",
      "provenance": [],
      "collapsed_sections": []
    },
    "kernelspec": {
      "display_name": "Python 3",
      "language": "python",
      "name": "python3"
    },
    "language_info": {
      "codemirror_mode": {
        "name": "ipython",
        "version": 3
      },
      "file_extension": ".py",
      "mimetype": "text/x-python",
      "name": "python",
      "nbconvert_exporter": "python",
      "pygments_lexer": "ipython3",
      "version": "3.7.4"
    }
  },
  "cells": [
    {
      "cell_type": "markdown",
      "metadata": {
        "id": "AgIX86XNzAom"
      },
      "source": [
        "# AI Assignment 2021\n",
        "## Bank Marketing Datasets Analysis using KNN Machine Learning Algorithm (With Explanatory Data Analysis)\n",
        "\n",
        "### Team Name : STRONG!\n",
        "### Members : \n",
        "Muhammad Naufal Hakim [Programmer] 19/440307/TK/48634 <br> Lathif Ma'arif [Editor] 19/444058/TK/49254 <br>Samatha Marhaendra Putra [Programmer & Editor] 19/444071/TK/49267"
      ]
    },
    {
      "cell_type": "markdown",
      "metadata": {
        "id": "UqTddW25zAop"
      },
      "source": [
        "### Import Libraries"
      ]
    },
    {
      "cell_type": "code",
      "metadata": {
        "id": "y9vz744FZFJL"
      },
      "source": [
        "import numpy as np\n",
        "import pandas as pd\n",
        "import matplotlib.pyplot as plt\n",
        "import seaborn as sns\n",
        "%matplotlib inline\n",
        "import warnings\n",
        "warnings.filterwarnings('ignore')\n",
        "\n",
        "import math\n",
        "from collections import Counter\n",
        "import operator"
      ],
      "execution_count": null,
      "outputs": []
    },
    {
      "cell_type": "markdown",
      "metadata": {
        "id": "-8W8qw8VzAoq"
      },
      "source": [
        "### Load Data"
      ]
    },
    {
      "cell_type": "code",
      "metadata": {
        "id": "9RCrLQW_ZzFy"
      },
      "source": [
        "df = pd.read_csv('bank-additional-full.csv',delimiter=\";\")"
      ],
      "execution_count": null,
      "outputs": []
    },
    {
      "cell_type": "code",
      "metadata": {
        "colab": {
          "base_uri": "https://localhost:8080/",
          "height": 226
        },
        "id": "jSmgryWTZ6GS",
        "scrolled": true,
        "outputId": "e73e5ee0-09b7-49fd-8660-e103dede0334"
      },
      "source": [
        "df.head()"
      ],
      "execution_count": null,
      "outputs": [
        {
          "output_type": "execute_result",
          "data": {
            "text/html": [
              "<div>\n",
              "<style scoped>\n",
              "    .dataframe tbody tr th:only-of-type {\n",
              "        vertical-align: middle;\n",
              "    }\n",
              "\n",
              "    .dataframe tbody tr th {\n",
              "        vertical-align: top;\n",
              "    }\n",
              "\n",
              "    .dataframe thead th {\n",
              "        text-align: right;\n",
              "    }\n",
              "</style>\n",
              "<table border=\"1\" class=\"dataframe\">\n",
              "  <thead>\n",
              "    <tr style=\"text-align: right;\">\n",
              "      <th></th>\n",
              "      <th>age</th>\n",
              "      <th>job</th>\n",
              "      <th>marital</th>\n",
              "      <th>education</th>\n",
              "      <th>default</th>\n",
              "      <th>housing</th>\n",
              "      <th>loan</th>\n",
              "      <th>contact</th>\n",
              "      <th>month</th>\n",
              "      <th>day_of_week</th>\n",
              "      <th>duration</th>\n",
              "      <th>campaign</th>\n",
              "      <th>pdays</th>\n",
              "      <th>previous</th>\n",
              "      <th>poutcome</th>\n",
              "      <th>emp.var.rate</th>\n",
              "      <th>cons.price.idx</th>\n",
              "      <th>cons.conf.idx</th>\n",
              "      <th>euribor3m</th>\n",
              "      <th>nr.employed</th>\n",
              "      <th>y</th>\n",
              "    </tr>\n",
              "  </thead>\n",
              "  <tbody>\n",
              "    <tr>\n",
              "      <th>0</th>\n",
              "      <td>56</td>\n",
              "      <td>housemaid</td>\n",
              "      <td>married</td>\n",
              "      <td>basic.4y</td>\n",
              "      <td>no</td>\n",
              "      <td>no</td>\n",
              "      <td>no</td>\n",
              "      <td>telephone</td>\n",
              "      <td>may</td>\n",
              "      <td>mon</td>\n",
              "      <td>261</td>\n",
              "      <td>1</td>\n",
              "      <td>999</td>\n",
              "      <td>0</td>\n",
              "      <td>nonexistent</td>\n",
              "      <td>1.1</td>\n",
              "      <td>93.994</td>\n",
              "      <td>-36.4</td>\n",
              "      <td>4.857</td>\n",
              "      <td>5191.0</td>\n",
              "      <td>no</td>\n",
              "    </tr>\n",
              "    <tr>\n",
              "      <th>1</th>\n",
              "      <td>57</td>\n",
              "      <td>services</td>\n",
              "      <td>married</td>\n",
              "      <td>high.school</td>\n",
              "      <td>unknown</td>\n",
              "      <td>no</td>\n",
              "      <td>no</td>\n",
              "      <td>telephone</td>\n",
              "      <td>may</td>\n",
              "      <td>mon</td>\n",
              "      <td>149</td>\n",
              "      <td>1</td>\n",
              "      <td>999</td>\n",
              "      <td>0</td>\n",
              "      <td>nonexistent</td>\n",
              "      <td>1.1</td>\n",
              "      <td>93.994</td>\n",
              "      <td>-36.4</td>\n",
              "      <td>4.857</td>\n",
              "      <td>5191.0</td>\n",
              "      <td>no</td>\n",
              "    </tr>\n",
              "    <tr>\n",
              "      <th>2</th>\n",
              "      <td>37</td>\n",
              "      <td>services</td>\n",
              "      <td>married</td>\n",
              "      <td>high.school</td>\n",
              "      <td>no</td>\n",
              "      <td>yes</td>\n",
              "      <td>no</td>\n",
              "      <td>telephone</td>\n",
              "      <td>may</td>\n",
              "      <td>mon</td>\n",
              "      <td>226</td>\n",
              "      <td>1</td>\n",
              "      <td>999</td>\n",
              "      <td>0</td>\n",
              "      <td>nonexistent</td>\n",
              "      <td>1.1</td>\n",
              "      <td>93.994</td>\n",
              "      <td>-36.4</td>\n",
              "      <td>4.857</td>\n",
              "      <td>5191.0</td>\n",
              "      <td>no</td>\n",
              "    </tr>\n",
              "    <tr>\n",
              "      <th>3</th>\n",
              "      <td>40</td>\n",
              "      <td>admin.</td>\n",
              "      <td>married</td>\n",
              "      <td>basic.6y</td>\n",
              "      <td>no</td>\n",
              "      <td>no</td>\n",
              "      <td>no</td>\n",
              "      <td>telephone</td>\n",
              "      <td>may</td>\n",
              "      <td>mon</td>\n",
              "      <td>151</td>\n",
              "      <td>1</td>\n",
              "      <td>999</td>\n",
              "      <td>0</td>\n",
              "      <td>nonexistent</td>\n",
              "      <td>1.1</td>\n",
              "      <td>93.994</td>\n",
              "      <td>-36.4</td>\n",
              "      <td>4.857</td>\n",
              "      <td>5191.0</td>\n",
              "      <td>no</td>\n",
              "    </tr>\n",
              "    <tr>\n",
              "      <th>4</th>\n",
              "      <td>56</td>\n",
              "      <td>services</td>\n",
              "      <td>married</td>\n",
              "      <td>high.school</td>\n",
              "      <td>no</td>\n",
              "      <td>no</td>\n",
              "      <td>yes</td>\n",
              "      <td>telephone</td>\n",
              "      <td>may</td>\n",
              "      <td>mon</td>\n",
              "      <td>307</td>\n",
              "      <td>1</td>\n",
              "      <td>999</td>\n",
              "      <td>0</td>\n",
              "      <td>nonexistent</td>\n",
              "      <td>1.1</td>\n",
              "      <td>93.994</td>\n",
              "      <td>-36.4</td>\n",
              "      <td>4.857</td>\n",
              "      <td>5191.0</td>\n",
              "      <td>no</td>\n",
              "    </tr>\n",
              "  </tbody>\n",
              "</table>\n",
              "</div>"
            ],
            "text/plain": [
              "   age        job  marital  ... euribor3m nr.employed   y\n",
              "0   56  housemaid  married  ...     4.857      5191.0  no\n",
              "1   57   services  married  ...     4.857      5191.0  no\n",
              "2   37   services  married  ...     4.857      5191.0  no\n",
              "3   40     admin.  married  ...     4.857      5191.0  no\n",
              "4   56   services  married  ...     4.857      5191.0  no\n",
              "\n",
              "[5 rows x 21 columns]"
            ]
          },
          "metadata": {
            "tags": []
          },
          "execution_count": 58
        }
      ]
    },
    {
      "cell_type": "code",
      "metadata": {
        "colab": {
          "base_uri": "https://localhost:8080/"
        },
        "id": "ZUvShkS2Z8qy",
        "outputId": "af53070c-298e-43bc-da00-a2a8796eb5e6"
      },
      "source": [
        "df.info()"
      ],
      "execution_count": null,
      "outputs": [
        {
          "output_type": "stream",
          "text": [
            "<class 'pandas.core.frame.DataFrame'>\n",
            "RangeIndex: 41188 entries, 0 to 41187\n",
            "Data columns (total 21 columns):\n",
            " #   Column          Non-Null Count  Dtype  \n",
            "---  ------          --------------  -----  \n",
            " 0   age             41188 non-null  int64  \n",
            " 1   job             41188 non-null  object \n",
            " 2   marital         41188 non-null  object \n",
            " 3   education       41188 non-null  object \n",
            " 4   default         41188 non-null  object \n",
            " 5   housing         41188 non-null  object \n",
            " 6   loan            41188 non-null  object \n",
            " 7   contact         41188 non-null  object \n",
            " 8   month           41188 non-null  object \n",
            " 9   day_of_week     41188 non-null  object \n",
            " 10  duration        41188 non-null  int64  \n",
            " 11  campaign        41188 non-null  int64  \n",
            " 12  pdays           41188 non-null  int64  \n",
            " 13  previous        41188 non-null  int64  \n",
            " 14  poutcome        41188 non-null  object \n",
            " 15  emp.var.rate    41188 non-null  float64\n",
            " 16  cons.price.idx  41188 non-null  float64\n",
            " 17  cons.conf.idx   41188 non-null  float64\n",
            " 18  euribor3m       41188 non-null  float64\n",
            " 19  nr.employed     41188 non-null  float64\n",
            " 20  y               41188 non-null  object \n",
            "dtypes: float64(5), int64(5), object(11)\n",
            "memory usage: 6.6+ MB\n"
          ],
          "name": "stdout"
        }
      ]
    },
    {
      "cell_type": "code",
      "metadata": {
        "colab": {
          "base_uri": "https://localhost:8080/",
          "height": 206
        },
        "id": "_FzENzdOaIIC",
        "outputId": "1c78ec35-81c5-4b0f-8c18-a10000b35e71"
      },
      "source": [
        "bank_client = df.iloc[: , 0:7]\n",
        "bank_client.head()"
      ],
      "execution_count": null,
      "outputs": [
        {
          "output_type": "execute_result",
          "data": {
            "text/html": [
              "<div>\n",
              "<style scoped>\n",
              "    .dataframe tbody tr th:only-of-type {\n",
              "        vertical-align: middle;\n",
              "    }\n",
              "\n",
              "    .dataframe tbody tr th {\n",
              "        vertical-align: top;\n",
              "    }\n",
              "\n",
              "    .dataframe thead th {\n",
              "        text-align: right;\n",
              "    }\n",
              "</style>\n",
              "<table border=\"1\" class=\"dataframe\">\n",
              "  <thead>\n",
              "    <tr style=\"text-align: right;\">\n",
              "      <th></th>\n",
              "      <th>age</th>\n",
              "      <th>job</th>\n",
              "      <th>marital</th>\n",
              "      <th>education</th>\n",
              "      <th>default</th>\n",
              "      <th>housing</th>\n",
              "      <th>loan</th>\n",
              "    </tr>\n",
              "  </thead>\n",
              "  <tbody>\n",
              "    <tr>\n",
              "      <th>0</th>\n",
              "      <td>56</td>\n",
              "      <td>housemaid</td>\n",
              "      <td>married</td>\n",
              "      <td>basic.4y</td>\n",
              "      <td>no</td>\n",
              "      <td>no</td>\n",
              "      <td>no</td>\n",
              "    </tr>\n",
              "    <tr>\n",
              "      <th>1</th>\n",
              "      <td>57</td>\n",
              "      <td>services</td>\n",
              "      <td>married</td>\n",
              "      <td>high.school</td>\n",
              "      <td>unknown</td>\n",
              "      <td>no</td>\n",
              "      <td>no</td>\n",
              "    </tr>\n",
              "    <tr>\n",
              "      <th>2</th>\n",
              "      <td>37</td>\n",
              "      <td>services</td>\n",
              "      <td>married</td>\n",
              "      <td>high.school</td>\n",
              "      <td>no</td>\n",
              "      <td>yes</td>\n",
              "      <td>no</td>\n",
              "    </tr>\n",
              "    <tr>\n",
              "      <th>3</th>\n",
              "      <td>40</td>\n",
              "      <td>admin.</td>\n",
              "      <td>married</td>\n",
              "      <td>basic.6y</td>\n",
              "      <td>no</td>\n",
              "      <td>no</td>\n",
              "      <td>no</td>\n",
              "    </tr>\n",
              "    <tr>\n",
              "      <th>4</th>\n",
              "      <td>56</td>\n",
              "      <td>services</td>\n",
              "      <td>married</td>\n",
              "      <td>high.school</td>\n",
              "      <td>no</td>\n",
              "      <td>no</td>\n",
              "      <td>yes</td>\n",
              "    </tr>\n",
              "  </tbody>\n",
              "</table>\n",
              "</div>"
            ],
            "text/plain": [
              "   age        job  marital    education  default housing loan\n",
              "0   56  housemaid  married     basic.4y       no      no   no\n",
              "1   57   services  married  high.school  unknown      no   no\n",
              "2   37   services  married  high.school       no     yes   no\n",
              "3   40     admin.  married     basic.6y       no      no   no\n",
              "4   56   services  married  high.school       no      no  yes"
            ]
          },
          "metadata": {
            "tags": []
          },
          "execution_count": 60
        }
      ]
    },
    {
      "cell_type": "markdown",
      "metadata": {
        "id": "ywSGde50zAos"
      },
      "source": [
        "#### Knowing the categorical variables"
      ]
    },
    {
      "cell_type": "code",
      "metadata": {
        "colab": {
          "base_uri": "https://localhost:8080/"
        },
        "id": "Pl3PZZOiaGd6",
        "outputId": "1a31983e-c4f3-4a2c-faea-361145226be1"
      },
      "source": [
        "print('Jobs:\\n', bank_client['job'].unique())"
      ],
      "execution_count": null,
      "outputs": [
        {
          "output_type": "stream",
          "text": [
            "Jobs:\n",
            " ['housemaid' 'services' 'admin.' 'blue-collar' 'technician' 'retired'\n",
            " 'management' 'unemployed' 'self-employed' 'unknown' 'entrepreneur'\n",
            " 'student']\n"
          ],
          "name": "stdout"
        }
      ]
    },
    {
      "cell_type": "code",
      "metadata": {
        "colab": {
          "base_uri": "https://localhost:8080/"
        },
        "id": "BnOJVOz4ckKr",
        "outputId": "483bc1b1-f254-41e4-de47-a6e097f80551"
      },
      "source": [
        "print('Marital:\\n', bank_client['marital'].unique())"
      ],
      "execution_count": null,
      "outputs": [
        {
          "output_type": "stream",
          "text": [
            "Marital:\n",
            " ['married' 'single' 'divorced' 'unknown']\n"
          ],
          "name": "stdout"
        }
      ]
    },
    {
      "cell_type": "code",
      "metadata": {
        "colab": {
          "base_uri": "https://localhost:8080/"
        },
        "id": "CVkJ4W7scnAa",
        "outputId": "839c8862-2261-4c7f-85de-e2746b34ae2c"
      },
      "source": [
        "print('Education:\\n', bank_client['education'].unique())"
      ],
      "execution_count": null,
      "outputs": [
        {
          "output_type": "stream",
          "text": [
            "Education:\n",
            " ['basic.4y' 'high.school' 'basic.6y' 'basic.9y' 'professional.course'\n",
            " 'unknown' 'university.degree' 'illiterate']\n"
          ],
          "name": "stdout"
        }
      ]
    },
    {
      "cell_type": "code",
      "metadata": {
        "colab": {
          "base_uri": "https://localhost:8080/"
        },
        "id": "P2i2-sSfc0LX",
        "outputId": "81061d58-b33b-47e4-e53f-6d932bfba19a"
      },
      "source": [
        "print('Default:\\n', bank_client['default'].unique())\n",
        "print('Housing:\\n', bank_client['housing'].unique())\n",
        "print('Loan:\\n', bank_client['loan'].unique())"
      ],
      "execution_count": null,
      "outputs": [
        {
          "output_type": "stream",
          "text": [
            "Default:\n",
            " ['no' 'unknown' 'yes']\n",
            "Housing:\n",
            " ['no' 'yes' 'unknown']\n",
            "Loan:\n",
            " ['no' 'yes' 'unknown']\n"
          ],
          "name": "stdout"
        }
      ]
    },
    {
      "cell_type": "markdown",
      "metadata": {
        "id": "d3L1miT2zAot"
      },
      "source": [
        "#### Data Cleaning (if any raw data)"
      ]
    },
    {
      "cell_type": "markdown",
      "metadata": {
        "id": "lhiFOt8lc6cG",
        "outputId": "46b84a5e-9d7d-4346-ccca-f35b594d77a7"
      },
      "source": [
        "#Trying to find some strange values or null values\n",
        "print('Min age: ', bank_client['age'].max())\n",
        "print('Max age: ', bank_client['age'].min())\n",
        "print('Null Values: ', bank_client['age'].isnull().any())"
      ]
    },
    {
      "cell_type": "markdown",
      "metadata": {
        "id": "XORJmJ5szAou"
      },
      "source": [
        "### Explanatory Data Analysis"
      ]
    },
    {
      "cell_type": "markdown",
      "metadata": {
        "id": "wNI_9HwszAou"
      },
      "source": [
        "#### Age Count Distribution"
      ]
    },
    {
      "cell_type": "code",
      "metadata": {
        "colab": {
          "base_uri": "https://localhost:8080/",
          "height": 285
        },
        "id": "Dl5JAkdOc8Y2",
        "outputId": "a6370d99-94c6-4ac7-8e3e-5952e7ff27bb"
      },
      "source": [
        "fig, ax = plt.subplots()\n",
        "fig.set_size_inches(20, 8)\n",
        "sns.countplot(x = 'age', data = bank_client)\n",
        "ax.set_xlabel('Age', fontsize=15)\n",
        "ax.set_ylabel('Count', fontsize=15)\n",
        "ax.set_title('Age Count Distribution', fontsize=15)\n",
        "sns.despine()"
      ],
      "execution_count": null,
      "outputs": [
        {
          "output_type": "display_data",
          "data": {
            "image/png": "[encoded data removed]",
            "text/plain": [
              "<Figure size 1440x576 with 1 Axes>"
            ]
          },
          "metadata": {
            "tags": [],
            "needs_background": "light"
          }
        }
      ]
    },
    {
      "cell_type": "markdown",
      "metadata": {
        "id": "PFawP2QwzAou"
      },
      "source": [
        "#### Age Distribution and Occurence"
      ]
    },
    {
      "cell_type": "code",
      "metadata": {
        "colab": {
          "base_uri": "https://localhost:8080/",
          "height": 255
        },
        "id": "-lCOZz8dc-vl",
        "outputId": "b3f08b4d-ee4d-4e78-e5d1-66e74af2a34b"
      },
      "source": [
        "fig, (ax1, ax2) = plt.subplots(nrows = 1, ncols = 2, figsize = (13, 5))\n",
        "sns.boxplot(x = 'age', data = bank_client, orient = 'v', ax = ax1)\n",
        "ax1.set_xlabel('People Age', fontsize=15)\n",
        "ax1.set_ylabel('Age', fontsize=15)\n",
        "ax1.set_title('Age Distribution', fontsize=15)\n",
        "ax1.tick_params(labelsize=15)\n",
        "\n",
        "sns.distplot(bank_client['age'], ax = ax2)\n",
        "sns.despine(ax = ax2)\n",
        "ax2.set_xlabel('Age', fontsize=15)\n",
        "ax2.set_ylabel('Occurence', fontsize=15)\n",
        "ax2.set_title('Age x Ocucurence', fontsize=15)\n",
        "ax2.tick_params(labelsize=15)\n",
        "\n",
        "plt.subplots_adjust(wspace=0.5)\n",
        "plt.tight_layout() "
      ],
      "execution_count": null,
      "outputs": [
        {
          "output_type": "display_data",
          "data": {
            "image/png": "[encoded data removed]",
            "text/plain": [
              "<Figure size 936x360 with 2 Axes>"
            ]
          },
          "metadata": {
            "tags": [],
            "needs_background": "light"
          }
        }
      ]
    },
    {
      "cell_type": "markdown",
      "metadata": {
        "id": "BBgkQvAFzAov"
      },
      "source": [
        "#### Age Quartiles"
      ]
    },
    {
      "cell_type": "code",
      "metadata": {
        "colab": {
          "base_uri": "https://localhost:8080/"
        },
        "id": "sJN_Q40MdHDl",
        "outputId": "d2c9cb52-b878-4e1c-8565-881727f4e4b0"
      },
      "source": [
        "# Quartiles\n",
        "print('1º Quartile: ', bank_client['age'].quantile(q = 0.25))\n",
        "print('2º Quartile: ', bank_client['age'].quantile(q = 0.50))\n",
        "print('3º Quartile: ', bank_client['age'].quantile(q = 0.75))\n",
        "print('4º Quartile: ', bank_client['age'].quantile(q = 1.00))\n",
        "#Calculate the outliers:\n",
        "  # Interquartile range, IQR = Q3 - Q1\n",
        "  # lower 1.5*IQR whisker = Q1 - 1.5 * IQR \n",
        "  # Upper 1.5*IQR whisker = Q3 + 1.5 * IQR\n",
        "    \n",
        "print('Ages above: ', bank_client['age'].quantile(q = 0.75) + \n",
        "                      1.5*(bank_client['age'].quantile(q = 0.75) - bank_client['age'].quantile(q = 0.25)), 'are outliers')"
      ],
      "execution_count": null,
      "outputs": [
        {
          "output_type": "stream",
          "text": [
            "1º Quartile:  32.0\n",
            "2º Quartile:  38.0\n",
            "3º Quartile:  47.0\n",
            "4º Quartile:  98.0\n",
            "Ages above:  69.5 are outliers\n"
          ],
          "name": "stdout"
        }
      ]
    },
    {
      "cell_type": "markdown",
      "metadata": {
        "id": "Z5MyQu6szAov"
      },
      "source": [
        "#### Age Outliers, Mean-STD-CV"
      ]
    },
    {
      "cell_type": "code",
      "metadata": {
        "colab": {
          "base_uri": "https://localhost:8080/"
        },
        "id": "jm4DdhDNdOkD",
        "outputId": "73206f58-7a75-45ff-c115-2ec5df864a0b"
      },
      "source": [
        "print('Numerber of outliers: ', bank_client[bank_client['age'] > 69.6]['age'].count())\n",
        "print('Number of clients: ', len(bank_client))\n",
        "#Outliers in %\n",
        "print('Outliers are:', round(bank_client[bank_client['age'] > 69.6]['age'].count()*100/len(bank_client),2), '%')"
      ],
      "execution_count": null,
      "outputs": [
        {
          "output_type": "stream",
          "text": [
            "Numerber of outliers:  469\n",
            "Number of clients:  41188\n",
            "Outliers are: 1.14 %\n"
          ],
          "name": "stdout"
        }
      ]
    },
    {
      "cell_type": "code",
      "metadata": {
        "colab": {
          "base_uri": "https://localhost:8080/"
        },
        "id": "R8z-2eWYdRl0",
        "outputId": "10042825-4e58-4fd9-ecca-278f897d2d61"
      },
      "source": [
        "# Calculating some values to evaluete this independent variable\n",
        "print('MEAN:', round(bank_client['age'].mean(), 1))\n",
        "# A low standard deviation indicates that the data points tend to be close to the mean or expected value\n",
        "# A high standard deviation indicates that the data points are scattered\n",
        "print('STD :', round(bank_client['age'].std(), 1))\n",
        "# I thing the best way to give a precisly insight abou dispersion is using the CV (coefficient variation) (STD/MEAN)*100\n",
        "#    cv < 15%, low dispersion\n",
        "#    cv > 30%, high dispersion\n",
        "print('CV  :',round(bank_client['age'].std()*100/bank_client['age'].mean(), 1), ', High middle dispersion')"
      ],
      "execution_count": null,
      "outputs": [
        {
          "output_type": "stream",
          "text": [
            "MEAN: 40.0\n",
            "STD : 10.4\n",
            "CV  : 26.0 , High middle dispersion\n"
          ],
          "name": "stdout"
        }
      ]
    },
    {
      "cell_type": "markdown",
      "metadata": {
        "id": "tm3GEogDzAow"
      },
      "source": [
        "### Age Count Distribution based on jobs"
      ]
    },
    {
      "cell_type": "code",
      "metadata": {
        "colab": {
          "base_uri": "https://localhost:8080/",
          "height": 282
        },
        "id": "fQXiZGgvdT6C",
        "outputId": "e6e5a493-8279-4e3b-b154-454476d60e3f"
      },
      "source": [
        "# What kind of jobs clients this bank have, if you cross jobs with default, loan or housing, there is no relation\n",
        "fig, ax = plt.subplots()\n",
        "fig.set_size_inches(20, 8)\n",
        "sns.countplot(x = 'job', data = bank_client)\n",
        "ax.set_xlabel('Job', fontsize=15)\n",
        "ax.set_ylabel('Count', fontsize=15)\n",
        "ax.set_title('Age Count Distribution', fontsize=15)\n",
        "ax.tick_params(labelsize=15)\n",
        "sns.despine()"
      ],
      "execution_count": null,
      "outputs": [
        {
          "output_type": "display_data",
          "data": {
            "image/png": "[encoded data removed]",
            "text/plain": [
              "<Figure size 1440x576 with 1 Axes>"
            ]
          },
          "metadata": {
            "tags": [],
            "needs_background": "light"
          }
        }
      ]
    },
    {
      "cell_type": "markdown",
      "metadata": {
        "id": "nj6SBMx7zAow"
      },
      "source": [
        "### Marital Count Distribution"
      ]
    },
    {
      "cell_type": "code",
      "metadata": {
        "colab": {
          "base_uri": "https://localhost:8080/",
          "height": 353
        },
        "id": "SW3yWBAudarJ",
        "outputId": "50670c6f-0f62-4f6b-c2fd-a89a1e1c3579"
      },
      "source": [
        "# What kind of 'marital clients' this bank have, if you cross marital with default, loan or housing, there is no relation\n",
        "fig, ax = plt.subplots()\n",
        "fig.set_size_inches(10, 5)\n",
        "sns.countplot(x = 'marital', data = bank_client)\n",
        "ax.set_xlabel('Marital', fontsize=15)\n",
        "ax.set_ylabel('Count', fontsize=15)\n",
        "ax.set_title('Marital Count Distribution', fontsize=15)\n",
        "ax.tick_params(labelsize=15)\n",
        "sns.despine()"
      ],
      "execution_count": null,
      "outputs": [
        {
          "output_type": "display_data",
          "data": {
            "image/png": "[encoded data removed]",
            "text/plain": [
              "<Figure size 720x360 with 1 Axes>"
            ]
          },
          "metadata": {
            "tags": [],
            "needs_background": "light"
          }
        }
      ]
    },
    {
      "cell_type": "markdown",
      "metadata": {
        "id": "zwxKL0txzAox"
      },
      "source": [
        "### Education Count Distribution"
      ]
    },
    {
      "cell_type": "code",
      "metadata": {
        "colab": {
          "base_uri": "https://localhost:8080/",
          "height": 197
        },
        "id": "_bkrtuWHddop",
        "outputId": "ff19420e-6dd1-44da-f27e-8fee4bccb54d"
      },
      "source": [
        "# What kind of 'education clients this bank have, if you cross education with default, loan or housing, there is no relation\n",
        "fig, ax = plt.subplots()\n",
        "fig.set_size_inches(20, 5)\n",
        "sns.countplot(x = 'education', data = bank_client)\n",
        "ax.set_xlabel('Education', fontsize=15)\n",
        "ax.set_ylabel('Count', fontsize=15)\n",
        "ax.set_title('Education Count Distribution', fontsize=15)\n",
        "ax.tick_params(labelsize=15)\n",
        "sns.despine()"
      ],
      "execution_count": null,
      "outputs": [
        {
          "output_type": "display_data",
          "data": {
            "image/png": "[encoded data removed]",
            "text/plain": [
              "<Figure size 1440x360 with 1 Axes>"
            ]
          },
          "metadata": {
            "tags": [],
            "needs_background": "light"
          }
        }
      ]
    },
    {
      "cell_type": "markdown",
      "metadata": {
        "id": "AZzIupxtzAox"
      },
      "source": [
        "### \"Has Loan\" Distribution"
      ]
    },
    {
      "cell_type": "code",
      "metadata": {
        "colab": {
          "base_uri": "https://localhost:8080/",
          "height": 272
        },
        "id": "sBGp4LBXdf-A",
        "outputId": "a957f2d1-919e-412e-e54c-91664502154f"
      },
      "source": [
        "# Default, has credit in default ?\n",
        "fig, (ax1, ax2, ax3) = plt.subplots(nrows = 1, ncols = 3, figsize = (20,8))\n",
        "sns.countplot(x = 'default', data = bank_client, ax = ax1, order = ['no', 'unknown', 'yes'])\n",
        "ax1.set_title('Default', fontsize=15)\n",
        "ax1.set_xlabel('')\n",
        "ax1.set_ylabel('Count', fontsize=15)\n",
        "ax1.tick_params(labelsize=15)\n",
        "\n",
        "# Housing, has housing loan ?\n",
        "sns.countplot(x = 'housing', data = bank_client, ax = ax2, order = ['no', 'unknown', 'yes'])\n",
        "ax2.set_title('Housing', fontsize=15)\n",
        "ax2.set_xlabel('')\n",
        "ax2.set_ylabel('Count', fontsize=15)\n",
        "ax2.tick_params(labelsize=15)\n",
        "\n",
        "# Loan, has personal loan ?\n",
        "sns.countplot(x = 'loan', data = bank_client, ax = ax3, order = ['no', 'unknown', 'yes'])\n",
        "ax3.set_title('Loan', fontsize=15)\n",
        "ax3.set_xlabel('')\n",
        "ax3.set_ylabel('Count', fontsize=15)\n",
        "ax3.tick_params(labelsize=15)\n",
        "\n",
        "plt.subplots_adjust(wspace=0.25)"
      ],
      "execution_count": null,
      "outputs": [
        {
          "output_type": "display_data",
          "data": {
            "image/png": "[encoded data removed]",
            "text/plain": [
              "<Figure size 1440x576 with 3 Axes>"
            ]
          },
          "metadata": {
            "tags": [],
            "needs_background": "light"
          }
        }
      ]
    },
    {
      "cell_type": "code",
      "metadata": {
        "colab": {
          "base_uri": "https://localhost:8080/"
        },
        "id": "8yeBDwktdiWw",
        "outputId": "fdd401c2-af2b-46ac-dff6-c8d62c850ff9"
      },
      "source": [
        "print('Default:\\n No credit in default:'     , bank_client[bank_client['default'] == 'no']     ['age'].count(),\n",
        "              '\\n Unknown credit in default:', bank_client[bank_client['default'] == 'unknown']['age'].count(),\n",
        "              '\\n Yes to credit in default:' , bank_client[bank_client['default'] == 'yes']    ['age'].count())"
      ],
      "execution_count": null,
      "outputs": [
        {
          "output_type": "stream",
          "text": [
            "Default:\n",
            " No credit in default: 32588 \n",
            " Unknown credit in default: 8597 \n",
            " Yes to credit in default: 3\n"
          ],
          "name": "stdout"
        }
      ]
    },
    {
      "cell_type": "code",
      "metadata": {
        "colab": {
          "base_uri": "https://localhost:8080/"
        },
        "id": "dsxHvD6TdlNm",
        "outputId": "bb9b3a26-9c18-41e0-c2f1-ef198b9fa9f9"
      },
      "source": [
        "print('Housing:\\n No housing in loan:'     , bank_client[bank_client['housing'] == 'no']     ['age'].count(),\n",
        "              '\\n Unknown housing in loan:', bank_client[bank_client['housing'] == 'unknown']['age'].count(),\n",
        "              '\\n Yes to housing in loan:' , bank_client[bank_client['housing'] == 'yes']    ['age'].count())"
      ],
      "execution_count": null,
      "outputs": [
        {
          "output_type": "stream",
          "text": [
            "Housing:\n",
            " No housing in loan: 18622 \n",
            " Unknown housing in loan: 990 \n",
            " Yes to housing in loan: 21576\n"
          ],
          "name": "stdout"
        }
      ]
    },
    {
      "cell_type": "code",
      "metadata": {
        "colab": {
          "base_uri": "https://localhost:8080/"
        },
        "id": "fv6xT12ydn0W",
        "outputId": "f4de07d7-1eb8-4bf1-d3d7-5e927f3dd260"
      },
      "source": [
        "print('Housing:\\n No to personal loan:'     , bank_client[bank_client['loan'] == 'no']     ['age'].count(),\n",
        "              '\\n Unknown to personal loan:', bank_client[bank_client['loan'] == 'unknown']['age'].count(),\n",
        "              '\\n Yes to personal loan:'    , bank_client[bank_client['loan'] == 'yes']    ['age'].count())"
      ],
      "execution_count": null,
      "outputs": [
        {
          "output_type": "stream",
          "text": [
            "Housing:\n",
            " No to personal loan: 33950 \n",
            " Unknown to personal loan: 990 \n",
            " Yes to personal loan: 6248\n"
          ],
          "name": "stdout"
        }
      ]
    },
    {
      "cell_type": "markdown",
      "metadata": {
        "id": "6EZuOML7zAoz"
      },
      "source": [
        "### Data Pre-processing"
      ]
    },
    {
      "cell_type": "code",
      "metadata": {
        "id": "DoI2rfL0drL-"
      },
      "source": [
        "bank_client['job'].replace(['housemaid' , 'services' , 'admin.' , 'blue-collar' , 'technician', 'retired' , 'management', 'unemployed', 'self-employed', 'unknown' , 'entrepreneur', 'student'] , [1, 2, 3, 4, 5, 6, 7, 8, 9, 10, 11, 12], inplace=True)\n",
        "\n",
        "bank_client['education'].replace(['basic.4y' , 'high.school', 'basic.6y', 'basic.9y', 'professional.course', 'unknown' , 'university.degree' , 'illiterate'], [1, 2, 3, 4, 5, 6, 7, 8], inplace=True)\n",
        "\n",
        "bank_client['marital'].replace(['married', 'single', 'divorced', 'unknown'], [1, 2, 3, 4], inplace=True)\n",
        "\n",
        "bank_client['default'].replace(['yes', 'no', 'unknown'],[1, 2, 3], inplace=True)\n",
        "\n",
        "bank_client['housing'].replace(['yes', 'no', 'unknown'],[1, 2, 3], inplace=True)\n",
        "\n",
        "bank_client['loan'].replace(['yes', 'no', 'unknown'],[1, 2, 3], inplace=True)\n",
        "\n",
        "def age(dataframe):\n",
        "    dataframe.loc[dataframe['age'] <= 32, 'age'] = 1\n",
        "    dataframe.loc[(dataframe['age'] > 32) & (dataframe['age'] <= 47), 'age'] = 2\n",
        "    dataframe.loc[(dataframe['age'] > 47) & (dataframe['age'] <= 70), 'age'] = 3\n",
        "    dataframe.loc[(dataframe['age'] > 70) & (dataframe['age'] <= 98), 'age'] = 4\n",
        "           \n",
        "    return dataframe\n",
        "\n",
        "age(bank_client);"
      ],
      "execution_count": null,
      "outputs": []
    },
    {
      "cell_type": "code",
      "metadata": {
        "colab": {
          "base_uri": "https://localhost:8080/",
          "height": 206
        },
        "id": "3AcRgXEeeJsi",
        "outputId": "e59861e3-0007-430a-bada-238a6363147c"
      },
      "source": [
        "bank_client.head()"
      ],
      "execution_count": null,
      "outputs": [
        {
          "output_type": "execute_result",
          "data": {
            "text/html": [
              "<div>\n",
              "<style scoped>\n",
              "    .dataframe tbody tr th:only-of-type {\n",
              "        vertical-align: middle;\n",
              "    }\n",
              "\n",
              "    .dataframe tbody tr th {\n",
              "        vertical-align: top;\n",
              "    }\n",
              "\n",
              "    .dataframe thead th {\n",
              "        text-align: right;\n",
              "    }\n",
              "</style>\n",
              "<table border=\"1\" class=\"dataframe\">\n",
              "  <thead>\n",
              "    <tr style=\"text-align: right;\">\n",
              "      <th></th>\n",
              "      <th>age</th>\n",
              "      <th>job</th>\n",
              "      <th>marital</th>\n",
              "      <th>education</th>\n",
              "      <th>default</th>\n",
              "      <th>housing</th>\n",
              "      <th>loan</th>\n",
              "    </tr>\n",
              "  </thead>\n",
              "  <tbody>\n",
              "    <tr>\n",
              "      <th>0</th>\n",
              "      <td>3</td>\n",
              "      <td>1</td>\n",
              "      <td>1</td>\n",
              "      <td>1</td>\n",
              "      <td>2</td>\n",
              "      <td>2</td>\n",
              "      <td>2</td>\n",
              "    </tr>\n",
              "    <tr>\n",
              "      <th>1</th>\n",
              "      <td>3</td>\n",
              "      <td>2</td>\n",
              "      <td>1</td>\n",
              "      <td>2</td>\n",
              "      <td>3</td>\n",
              "      <td>2</td>\n",
              "      <td>2</td>\n",
              "    </tr>\n",
              "    <tr>\n",
              "      <th>2</th>\n",
              "      <td>2</td>\n",
              "      <td>2</td>\n",
              "      <td>1</td>\n",
              "      <td>2</td>\n",
              "      <td>2</td>\n",
              "      <td>1</td>\n",
              "      <td>2</td>\n",
              "    </tr>\n",
              "    <tr>\n",
              "      <th>3</th>\n",
              "      <td>2</td>\n",
              "      <td>3</td>\n",
              "      <td>1</td>\n",
              "      <td>3</td>\n",
              "      <td>2</td>\n",
              "      <td>2</td>\n",
              "      <td>2</td>\n",
              "    </tr>\n",
              "    <tr>\n",
              "      <th>4</th>\n",
              "      <td>3</td>\n",
              "      <td>2</td>\n",
              "      <td>1</td>\n",
              "      <td>2</td>\n",
              "      <td>2</td>\n",
              "      <td>2</td>\n",
              "      <td>1</td>\n",
              "    </tr>\n",
              "  </tbody>\n",
              "</table>\n",
              "</div>"
            ],
            "text/plain": [
              "   age  job  marital  education  default  housing  loan\n",
              "0    3    1        1          1        2        2     2\n",
              "1    3    2        1          2        3        2     2\n",
              "2    2    2        1          2        2        1     2\n",
              "3    2    3        1          3        2        2     2\n",
              "4    3    2        1          2        2        2     1"
            ]
          },
          "metadata": {
            "tags": []
          },
          "execution_count": 78
        }
      ]
    },
    {
      "cell_type": "markdown",
      "metadata": {
        "id": "iaX5cEUhzAoz"
      },
      "source": [
        "### Slicing Dataframe"
      ]
    },
    {
      "cell_type": "code",
      "metadata": {
        "colab": {
          "base_uri": "https://localhost:8080/",
          "height": 206
        },
        "id": "GjmwobnXeP4K",
        "outputId": "0f1a1c72-ac5b-40f1-db34-79ce2643d0d1"
      },
      "source": [
        "# Slicing DataFrame to treat separately, make things more easy\n",
        "bank_related = df.iloc[: , 7:11]\n",
        "bank_related.head()"
      ],
      "execution_count": null,
      "outputs": [
        {
          "output_type": "execute_result",
          "data": {
            "text/html": [
              "<div>\n",
              "<style scoped>\n",
              "    .dataframe tbody tr th:only-of-type {\n",
              "        vertical-align: middle;\n",
              "    }\n",
              "\n",
              "    .dataframe tbody tr th {\n",
              "        vertical-align: top;\n",
              "    }\n",
              "\n",
              "    .dataframe thead th {\n",
              "        text-align: right;\n",
              "    }\n",
              "</style>\n",
              "<table border=\"1\" class=\"dataframe\">\n",
              "  <thead>\n",
              "    <tr style=\"text-align: right;\">\n",
              "      <th></th>\n",
              "      <th>contact</th>\n",
              "      <th>month</th>\n",
              "      <th>day_of_week</th>\n",
              "      <th>duration</th>\n",
              "    </tr>\n",
              "  </thead>\n",
              "  <tbody>\n",
              "    <tr>\n",
              "      <th>0</th>\n",
              "      <td>telephone</td>\n",
              "      <td>may</td>\n",
              "      <td>mon</td>\n",
              "      <td>261</td>\n",
              "    </tr>\n",
              "    <tr>\n",
              "      <th>1</th>\n",
              "      <td>telephone</td>\n",
              "      <td>may</td>\n",
              "      <td>mon</td>\n",
              "      <td>149</td>\n",
              "    </tr>\n",
              "    <tr>\n",
              "      <th>2</th>\n",
              "      <td>telephone</td>\n",
              "      <td>may</td>\n",
              "      <td>mon</td>\n",
              "      <td>226</td>\n",
              "    </tr>\n",
              "    <tr>\n",
              "      <th>3</th>\n",
              "      <td>telephone</td>\n",
              "      <td>may</td>\n",
              "      <td>mon</td>\n",
              "      <td>151</td>\n",
              "    </tr>\n",
              "    <tr>\n",
              "      <th>4</th>\n",
              "      <td>telephone</td>\n",
              "      <td>may</td>\n",
              "      <td>mon</td>\n",
              "      <td>307</td>\n",
              "    </tr>\n",
              "  </tbody>\n",
              "</table>\n",
              "</div>"
            ],
            "text/plain": [
              "     contact month day_of_week  duration\n",
              "0  telephone   may         mon       261\n",
              "1  telephone   may         mon       149\n",
              "2  telephone   may         mon       226\n",
              "3  telephone   may         mon       151\n",
              "4  telephone   may         mon       307"
            ]
          },
          "metadata": {
            "tags": []
          },
          "execution_count": 79
        }
      ]
    },
    {
      "cell_type": "code",
      "metadata": {
        "colab": {
          "base_uri": "https://localhost:8080/"
        },
        "id": "oAnCWkH-e7QD",
        "outputId": "dc43c33c-25a3-4619-d42f-f157e5334c92"
      },
      "source": [
        "bank_related.isnull().any()"
      ],
      "execution_count": null,
      "outputs": [
        {
          "output_type": "execute_result",
          "data": {
            "text/plain": [
              "contact        False\n",
              "month          False\n",
              "day_of_week    False\n",
              "duration       False\n",
              "dtype: bool"
            ]
          },
          "metadata": {
            "tags": []
          },
          "execution_count": 80
        }
      ]
    },
    {
      "cell_type": "markdown",
      "metadata": {
        "id": "aabFQ7sEzAo0"
      },
      "source": [
        "### Unique Value in Call Data"
      ]
    },
    {
      "cell_type": "code",
      "metadata": {
        "colab": {
          "base_uri": "https://localhost:8080/"
        },
        "id": "GOkUHvL7e9pP",
        "outputId": "cdcfb076-8bb3-42e4-cfe1-55bd85acefc4"
      },
      "source": [
        "print(\"Kind of Contact: \\n\", bank_related['contact'].unique())\n",
        "print(\"\\nWhich monthis this campaing work: \\n\", bank_related['month'].unique())\n",
        "print(\"\\nWhich days of week this campaing work: \\n\", bank_related['day_of_week'].unique())"
      ],
      "execution_count": null,
      "outputs": [
        {
          "output_type": "stream",
          "text": [
            "Kind of Contact: \n",
            " ['telephone' 'cellular']\n",
            "\n",
            "Which monthis this campaing work: \n",
            " ['may' 'jun' 'jul' 'aug' 'oct' 'nov' 'dec' 'mar' 'apr' 'sep']\n",
            "\n",
            "Which days of week this campaing work: \n",
            " ['mon' 'tue' 'wed' 'thu' 'fri']\n"
          ],
          "name": "stdout"
        }
      ]
    },
    {
      "cell_type": "markdown",
      "metadata": {
        "id": "83P7AAyLzAo0"
      },
      "source": [
        "### Call Distribution and Occurence"
      ]
    },
    {
      "cell_type": "code",
      "metadata": {
        "colab": {
          "base_uri": "https://localhost:8080/",
          "height": 255
        },
        "id": "Yab0z0QJfAGO",
        "outputId": "1147527c-f983-4626-fa11-5af02e30aa87"
      },
      "source": [
        "fig, (ax1, ax2) = plt.subplots(nrows = 1, ncols = 2, figsize = (13, 5))\n",
        "sns.boxplot(x = 'duration', data = bank_related, orient = 'v', ax = ax1)\n",
        "ax1.set_xlabel('Calls', fontsize=10)\n",
        "ax1.set_ylabel('Duration', fontsize=10)\n",
        "ax1.set_title('Calls Distribution', fontsize=10)\n",
        "ax1.tick_params(labelsize=10)\n",
        "\n",
        "sns.distplot(bank_related['duration'], ax = ax2)\n",
        "sns.despine(ax = ax2)\n",
        "ax2.set_xlabel('Duration Calls', fontsize=10)\n",
        "ax2.set_ylabel('Occurence', fontsize=10)\n",
        "ax2.set_title('Duration x Ocucurence', fontsize=10)\n",
        "ax2.tick_params(labelsize=10)\n",
        "\n",
        "plt.subplots_adjust(wspace=0.5)\n",
        "plt.tight_layout() "
      ],
      "execution_count": null,
      "outputs": [
        {
          "output_type": "display_data",
          "data": {
            "image/png": "[encoded data removed]",
            "text/plain": [
              "<Figure size 936x360 with 2 Axes>"
            ]
          },
          "metadata": {
            "tags": [],
            "needs_background": "light"
          }
        }
      ]
    },
    {
      "cell_type": "markdown",
      "metadata": {
        "id": "3e_YgnaZzAo0"
      },
      "source": [
        "### Descriptive Stat for Call Data"
      ]
    },
    {
      "cell_type": "code",
      "metadata": {
        "colab": {
          "base_uri": "https://localhost:8080/"
        },
        "id": "M_-OW8mce6H7",
        "outputId": "ad6b0898-8151-4fb9-e620-066c089edd25"
      },
      "source": [
        "print(\"Max duration  call in minutes:  \", round((bank_related['duration'].max()/60),1))\n",
        "print(\"Min duration  call in minutes:   \", round((bank_related['duration'].min()/60),1))\n",
        "print(\"Mean duration call in minutes:   \", round((bank_related['duration'].mean()/60),1))\n",
        "print(\"STD duration  call in minutes:   \", round((bank_related['duration'].std()/60),1))\n",
        "# Std close to the mean means that the data values are close to the mean "
      ],
      "execution_count": null,
      "outputs": [
        {
          "output_type": "stream",
          "text": [
            "Max duration  call in minutes:   82.0\n",
            "Min duration  call in minutes:    0.0\n",
            "Mean duration call in minutes:    4.3\n",
            "STD duration  call in minutes:    4.3\n"
          ],
          "name": "stdout"
        }
      ]
    },
    {
      "cell_type": "code",
      "metadata": {
        "colab": {
          "base_uri": "https://localhost:8080/"
        },
        "id": "38ScfgD-eL26",
        "outputId": "e1e02058-8248-466b-baeb-b321471290ab"
      },
      "source": [
        "# Quartiles\n",
        "print('1º Quartile: ', bank_related['duration'].quantile(q = 0.25))\n",
        "print('2º Quartile: ', bank_related['duration'].quantile(q = 0.50))\n",
        "print('3º Quartile: ', bank_related['duration'].quantile(q = 0.75))\n",
        "print('4º Quartile: ', bank_related['duration'].quantile(q = 1.00))\n",
        "#Calculate the outliers:\n",
        "  # Interquartile range, IQR = Q3 - Q1\n",
        "  # lower 1.5*IQR whisker = Q1 - 1.5 * IQR \n",
        "  # Upper 1.5*IQR whisker = Q3 + 1.5 * IQR\n",
        "    \n",
        "print('Duration calls above: ', bank_related['duration'].quantile(q = 0.75) + \n",
        "                      1.5*(bank_related['duration'].quantile(q = 0.75) - bank_related['duration'].quantile(q = 0.25)), 'are outliers')"
      ],
      "execution_count": null,
      "outputs": [
        {
          "output_type": "stream",
          "text": [
            "1º Quartile:  102.0\n",
            "2º Quartile:  180.0\n",
            "3º Quartile:  319.0\n",
            "4º Quartile:  4918.0\n",
            "Duration calls above:  644.5 are outliers\n"
          ],
          "name": "stdout"
        }
      ]
    },
    {
      "cell_type": "markdown",
      "metadata": {
        "id": "e0Xtv0V6zAo1"
      },
      "source": [
        "### Outliers for Call Data"
      ]
    },
    {
      "cell_type": "code",
      "metadata": {
        "colab": {
          "base_uri": "https://localhost:8080/"
        },
        "id": "N9W3hcl5fIlG",
        "outputId": "9c282508-24c3-4208-88bf-3dfc42a86da1"
      },
      "source": [
        "print('Numerber of outliers: ', bank_related[bank_related['duration'] > 644.5]['duration'].count())\n",
        "print('Number of clients: ', len(bank_related))\n",
        "#Outliers in %\n",
        "print('Outliers are:', round(bank_related[bank_related['duration'] > 644.5]['duration'].count()*100/len(bank_related),2), '%')"
      ],
      "execution_count": null,
      "outputs": [
        {
          "output_type": "stream",
          "text": [
            "Numerber of outliers:  2963\n",
            "Number of clients:  41188\n",
            "Outliers are: 7.19 %\n"
          ],
          "name": "stdout"
        }
      ]
    },
    {
      "cell_type": "markdown",
      "metadata": {
        "id": "BZPKFtPFzAo2"
      },
      "source": [
        "### Date Count Distribution"
      ]
    },
    {
      "cell_type": "code",
      "metadata": {
        "colab": {
          "base_uri": "https://localhost:8080/",
          "height": 286
        },
        "id": "YgzS4__EffFZ",
        "outputId": "dbb7ed9f-7bbf-4ae5-f963-fc10b02a0c0f"
      },
      "source": [
        "fig, (ax1, ax2, ax3) = plt.subplots(nrows = 1, ncols = 3, figsize = (15,6))\n",
        "sns.countplot(bank_related['contact'], ax = ax1)\n",
        "ax1.set_xlabel('Contact', fontsize = 10)\n",
        "ax1.set_ylabel('Count', fontsize = 10)\n",
        "ax1.set_title('Contact Counts')\n",
        "ax1.tick_params(labelsize=10)\n",
        "\n",
        "sns.countplot(bank_related['month'], ax = ax2, order = ['mar', 'apr', 'may', 'jun', 'jul', 'aug', 'sep', 'oct', 'nov', 'dec'])\n",
        "ax2.set_xlabel('Months', fontsize = 10)\n",
        "ax2.set_ylabel('')\n",
        "ax2.set_title('Months Counts')\n",
        "ax2.tick_params(labelsize=10)\n",
        "\n",
        "sns.countplot(bank_related['day_of_week'], ax = ax3)\n",
        "ax3.set_xlabel('Day of Week', fontsize = 10)\n",
        "ax3.set_ylabel('')\n",
        "ax3.set_title('Day of Week Counts')\n",
        "ax3.tick_params(labelsize=10)\n",
        "\n",
        "plt.subplots_adjust(wspace=0.25)"
      ],
      "execution_count": null,
      "outputs": [
        {
          "output_type": "display_data",
          "data": {
            "image/png": "[encoded data removed]",
            "text/plain": [
              "<Figure size 1080x432 with 3 Axes>"
            ]
          },
          "metadata": {
            "tags": [],
            "needs_background": "light"
          }
        }
      ]
    },
    {
      "cell_type": "markdown",
      "metadata": {
        "id": "RUKrzQDdzAo2"
      },
      "source": [
        "### Duration Outliers"
      ]
    },
    {
      "cell_type": "code",
      "metadata": {
        "colab": {
          "base_uri": "https://localhost:8080/"
        },
        "id": "g81JUi9Tfm_S",
        "outputId": "56f87882-52ca-490c-e7ce-883fa97d27f3"
      },
      "source": [
        "print('Call Duration above: ', bank_related['duration'].quantile(q = 0.75) + \n",
        "                      1.5*(bank_related['duration'].quantile(q = 0.75) - bank_related['duration'].quantile(q = 0.25)), 'are outliers')"
      ],
      "execution_count": null,
      "outputs": [
        {
          "output_type": "stream",
          "text": [
            "Call Duration above:  644.5 are outliers\n"
          ],
          "name": "stdout"
        }
      ]
    },
    {
      "cell_type": "code",
      "metadata": {
        "colab": {
          "base_uri": "https://localhost:8080/"
        },
        "id": "v4MzfyrafpJa",
        "outputId": "a4c3173b-23ff-4bfb-b914-cd292288d929"
      },
      "source": [
        "bank_related[bank_related['duration'] > 640].count()"
      ],
      "execution_count": null,
      "outputs": [
        {
          "output_type": "execute_result",
          "data": {
            "text/plain": [
              "contact        3008\n",
              "month          3008\n",
              "day_of_week    3008\n",
              "duration       3008\n",
              "dtype: int64"
            ]
          },
          "metadata": {
            "tags": []
          },
          "execution_count": 88
        }
      ]
    },
    {
      "cell_type": "code",
      "metadata": {
        "id": "qYKinFukfrZ9"
      },
      "source": [
        "bank_related['contact'].replace(['telephone', 'cellular'], [1, 2], inplace=True)\n",
        "bank_related['month'].replace(['may', 'jun', 'jul', 'aug', 'oct', 'nov', 'dec', 'mar', 'apr', 'sep'], [1, 2, 3, 4, 5, 6, 7, 8, 9, 10], inplace=True)\n",
        "bank_related['day_of_week'].replace(['mon', 'tue', 'wed', 'thu', 'fri'], [1, 2, 3, 4, 5], inplace=True)"
      ],
      "execution_count": null,
      "outputs": []
    },
    {
      "cell_type": "code",
      "metadata": {
        "colab": {
          "base_uri": "https://localhost:8080/",
          "height": 206
        },
        "id": "iokti5Gnn---",
        "outputId": "94b67ea1-7ee9-4f1e-84b1-5af5b19de275"
      },
      "source": [
        "bank_related.head()"
      ],
      "execution_count": null,
      "outputs": [
        {
          "output_type": "execute_result",
          "data": {
            "text/html": [
              "<div>\n",
              "<style scoped>\n",
              "    .dataframe tbody tr th:only-of-type {\n",
              "        vertical-align: middle;\n",
              "    }\n",
              "\n",
              "    .dataframe tbody tr th {\n",
              "        vertical-align: top;\n",
              "    }\n",
              "\n",
              "    .dataframe thead th {\n",
              "        text-align: right;\n",
              "    }\n",
              "</style>\n",
              "<table border=\"1\" class=\"dataframe\">\n",
              "  <thead>\n",
              "    <tr style=\"text-align: right;\">\n",
              "      <th></th>\n",
              "      <th>contact</th>\n",
              "      <th>month</th>\n",
              "      <th>day_of_week</th>\n",
              "      <th>duration</th>\n",
              "    </tr>\n",
              "  </thead>\n",
              "  <tbody>\n",
              "    <tr>\n",
              "      <th>0</th>\n",
              "      <td>1</td>\n",
              "      <td>1</td>\n",
              "      <td>1</td>\n",
              "      <td>261</td>\n",
              "    </tr>\n",
              "    <tr>\n",
              "      <th>1</th>\n",
              "      <td>1</td>\n",
              "      <td>1</td>\n",
              "      <td>1</td>\n",
              "      <td>149</td>\n",
              "    </tr>\n",
              "    <tr>\n",
              "      <th>2</th>\n",
              "      <td>1</td>\n",
              "      <td>1</td>\n",
              "      <td>1</td>\n",
              "      <td>226</td>\n",
              "    </tr>\n",
              "    <tr>\n",
              "      <th>3</th>\n",
              "      <td>1</td>\n",
              "      <td>1</td>\n",
              "      <td>1</td>\n",
              "      <td>151</td>\n",
              "    </tr>\n",
              "    <tr>\n",
              "      <th>4</th>\n",
              "      <td>1</td>\n",
              "      <td>1</td>\n",
              "      <td>1</td>\n",
              "      <td>307</td>\n",
              "    </tr>\n",
              "  </tbody>\n",
              "</table>\n",
              "</div>"
            ],
            "text/plain": [
              "   contact  month  day_of_week  duration\n",
              "0        1      1            1       261\n",
              "1        1      1            1       149\n",
              "2        1      1            1       226\n",
              "3        1      1            1       151\n",
              "4        1      1            1       307"
            ]
          },
          "metadata": {
            "tags": []
          },
          "execution_count": 90
        }
      ]
    },
    {
      "cell_type": "markdown",
      "metadata": {
        "id": "UpUX_OLOzAo3"
      },
      "source": [
        "### Grouping Duration Data"
      ]
    },
    {
      "cell_type": "code",
      "metadata": {
        "id": "8c5jWenUoOP1"
      },
      "source": [
        "def duration(data):\n",
        "\n",
        "    data.loc[data['duration'] <= 102, 'duration'] = 1\n",
        "    data.loc[(data['duration'] > 102) & (data['duration'] <= 180)  , 'duration']    = 2\n",
        "    data.loc[(data['duration'] > 180) & (data['duration'] <= 319)  , 'duration']   = 3\n",
        "    data.loc[(data['duration'] > 319) & (data['duration'] <= 644.5), 'duration'] = 4\n",
        "    data.loc[data['duration']  > 644.5, 'duration'] = 5\n",
        "\n",
        "    return data\n",
        "duration(bank_related);"
      ],
      "execution_count": null,
      "outputs": []
    },
    {
      "cell_type": "code",
      "metadata": {
        "colab": {
          "base_uri": "https://localhost:8080/",
          "height": 206
        },
        "id": "MM7-jkfNoXsE",
        "outputId": "72c9ce0b-5f11-4da3-9d09-c9d23c87d406"
      },
      "source": [
        "bank_related.head()"
      ],
      "execution_count": null,
      "outputs": [
        {
          "output_type": "execute_result",
          "data": {
            "text/html": [
              "<div>\n",
              "<style scoped>\n",
              "    .dataframe tbody tr th:only-of-type {\n",
              "        vertical-align: middle;\n",
              "    }\n",
              "\n",
              "    .dataframe tbody tr th {\n",
              "        vertical-align: top;\n",
              "    }\n",
              "\n",
              "    .dataframe thead th {\n",
              "        text-align: right;\n",
              "    }\n",
              "</style>\n",
              "<table border=\"1\" class=\"dataframe\">\n",
              "  <thead>\n",
              "    <tr style=\"text-align: right;\">\n",
              "      <th></th>\n",
              "      <th>contact</th>\n",
              "      <th>month</th>\n",
              "      <th>day_of_week</th>\n",
              "      <th>duration</th>\n",
              "    </tr>\n",
              "  </thead>\n",
              "  <tbody>\n",
              "    <tr>\n",
              "      <th>0</th>\n",
              "      <td>1</td>\n",
              "      <td>1</td>\n",
              "      <td>1</td>\n",
              "      <td>3</td>\n",
              "    </tr>\n",
              "    <tr>\n",
              "      <th>1</th>\n",
              "      <td>1</td>\n",
              "      <td>1</td>\n",
              "      <td>1</td>\n",
              "      <td>2</td>\n",
              "    </tr>\n",
              "    <tr>\n",
              "      <th>2</th>\n",
              "      <td>1</td>\n",
              "      <td>1</td>\n",
              "      <td>1</td>\n",
              "      <td>3</td>\n",
              "    </tr>\n",
              "    <tr>\n",
              "      <th>3</th>\n",
              "      <td>1</td>\n",
              "      <td>1</td>\n",
              "      <td>1</td>\n",
              "      <td>2</td>\n",
              "    </tr>\n",
              "    <tr>\n",
              "      <th>4</th>\n",
              "      <td>1</td>\n",
              "      <td>1</td>\n",
              "      <td>1</td>\n",
              "      <td>3</td>\n",
              "    </tr>\n",
              "  </tbody>\n",
              "</table>\n",
              "</div>"
            ],
            "text/plain": [
              "   contact  month  day_of_week  duration\n",
              "0        1      1            1         3\n",
              "1        1      1            1         2\n",
              "2        1      1            1         3\n",
              "3        1      1            1         2\n",
              "4        1      1            1         3"
            ]
          },
          "metadata": {
            "tags": []
          },
          "execution_count": 92
        }
      ]
    },
    {
      "cell_type": "markdown",
      "metadata": {
        "id": "NsnyGIlHzAo3"
      },
      "source": [
        "### Ungrouping Dataframe"
      ]
    },
    {
      "cell_type": "code",
      "metadata": {
        "colab": {
          "base_uri": "https://localhost:8080/",
          "height": 206
        },
        "id": "EMOWki5Kfdiq",
        "outputId": "69efeca6-572c-40f6-f971-167d5dd24610"
      },
      "source": [
        "bank_se = df.loc[: , ['emp.var.rate', 'cons.price.idx', 'cons.conf.idx', 'euribor3m', 'nr.employed']]\n",
        "bank_se.head()"
      ],
      "execution_count": null,
      "outputs": [
        {
          "output_type": "execute_result",
          "data": {
            "text/html": [
              "<div>\n",
              "<style scoped>\n",
              "    .dataframe tbody tr th:only-of-type {\n",
              "        vertical-align: middle;\n",
              "    }\n",
              "\n",
              "    .dataframe tbody tr th {\n",
              "        vertical-align: top;\n",
              "    }\n",
              "\n",
              "    .dataframe thead th {\n",
              "        text-align: right;\n",
              "    }\n",
              "</style>\n",
              "<table border=\"1\" class=\"dataframe\">\n",
              "  <thead>\n",
              "    <tr style=\"text-align: right;\">\n",
              "      <th></th>\n",
              "      <th>emp.var.rate</th>\n",
              "      <th>cons.price.idx</th>\n",
              "      <th>cons.conf.idx</th>\n",
              "      <th>euribor3m</th>\n",
              "      <th>nr.employed</th>\n",
              "    </tr>\n",
              "  </thead>\n",
              "  <tbody>\n",
              "    <tr>\n",
              "      <th>0</th>\n",
              "      <td>1.1</td>\n",
              "      <td>93.994</td>\n",
              "      <td>-36.4</td>\n",
              "      <td>4.857</td>\n",
              "      <td>5191.0</td>\n",
              "    </tr>\n",
              "    <tr>\n",
              "      <th>1</th>\n",
              "      <td>1.1</td>\n",
              "      <td>93.994</td>\n",
              "      <td>-36.4</td>\n",
              "      <td>4.857</td>\n",
              "      <td>5191.0</td>\n",
              "    </tr>\n",
              "    <tr>\n",
              "      <th>2</th>\n",
              "      <td>1.1</td>\n",
              "      <td>93.994</td>\n",
              "      <td>-36.4</td>\n",
              "      <td>4.857</td>\n",
              "      <td>5191.0</td>\n",
              "    </tr>\n",
              "    <tr>\n",
              "      <th>3</th>\n",
              "      <td>1.1</td>\n",
              "      <td>93.994</td>\n",
              "      <td>-36.4</td>\n",
              "      <td>4.857</td>\n",
              "      <td>5191.0</td>\n",
              "    </tr>\n",
              "    <tr>\n",
              "      <th>4</th>\n",
              "      <td>1.1</td>\n",
              "      <td>93.994</td>\n",
              "      <td>-36.4</td>\n",
              "      <td>4.857</td>\n",
              "      <td>5191.0</td>\n",
              "    </tr>\n",
              "  </tbody>\n",
              "</table>\n",
              "</div>"
            ],
            "text/plain": [
              "   emp.var.rate  cons.price.idx  cons.conf.idx  euribor3m  nr.employed\n",
              "0           1.1          93.994          -36.4      4.857       5191.0\n",
              "1           1.1          93.994          -36.4      4.857       5191.0\n",
              "2           1.1          93.994          -36.4      4.857       5191.0\n",
              "3           1.1          93.994          -36.4      4.857       5191.0\n",
              "4           1.1          93.994          -36.4      4.857       5191.0"
            ]
          },
          "metadata": {
            "tags": []
          },
          "execution_count": 93
        }
      ]
    },
    {
      "cell_type": "code",
      "metadata": {
        "colab": {
          "base_uri": "https://localhost:8080/",
          "height": 206
        },
        "id": "px_YJYWyojgL",
        "outputId": "41345854-5ac5-4971-a589-56f2a9ce796d"
      },
      "source": [
        "bank_o = df.loc[: , ['campaign', 'pdays','previous', 'poutcome']]\n",
        "bank_o.head()"
      ],
      "execution_count": null,
      "outputs": [
        {
          "output_type": "execute_result",
          "data": {
            "text/html": [
              "<div>\n",
              "<style scoped>\n",
              "    .dataframe tbody tr th:only-of-type {\n",
              "        vertical-align: middle;\n",
              "    }\n",
              "\n",
              "    .dataframe tbody tr th {\n",
              "        vertical-align: top;\n",
              "    }\n",
              "\n",
              "    .dataframe thead th {\n",
              "        text-align: right;\n",
              "    }\n",
              "</style>\n",
              "<table border=\"1\" class=\"dataframe\">\n",
              "  <thead>\n",
              "    <tr style=\"text-align: right;\">\n",
              "      <th></th>\n",
              "      <th>campaign</th>\n",
              "      <th>pdays</th>\n",
              "      <th>previous</th>\n",
              "      <th>poutcome</th>\n",
              "    </tr>\n",
              "  </thead>\n",
              "  <tbody>\n",
              "    <tr>\n",
              "      <th>0</th>\n",
              "      <td>1</td>\n",
              "      <td>999</td>\n",
              "      <td>0</td>\n",
              "      <td>nonexistent</td>\n",
              "    </tr>\n",
              "    <tr>\n",
              "      <th>1</th>\n",
              "      <td>1</td>\n",
              "      <td>999</td>\n",
              "      <td>0</td>\n",
              "      <td>nonexistent</td>\n",
              "    </tr>\n",
              "    <tr>\n",
              "      <th>2</th>\n",
              "      <td>1</td>\n",
              "      <td>999</td>\n",
              "      <td>0</td>\n",
              "      <td>nonexistent</td>\n",
              "    </tr>\n",
              "    <tr>\n",
              "      <th>3</th>\n",
              "      <td>1</td>\n",
              "      <td>999</td>\n",
              "      <td>0</td>\n",
              "      <td>nonexistent</td>\n",
              "    </tr>\n",
              "    <tr>\n",
              "      <th>4</th>\n",
              "      <td>1</td>\n",
              "      <td>999</td>\n",
              "      <td>0</td>\n",
              "      <td>nonexistent</td>\n",
              "    </tr>\n",
              "  </tbody>\n",
              "</table>\n",
              "</div>"
            ],
            "text/plain": [
              "   campaign  pdays  previous     poutcome\n",
              "0         1    999         0  nonexistent\n",
              "1         1    999         0  nonexistent\n",
              "2         1    999         0  nonexistent\n",
              "3         1    999         0  nonexistent\n",
              "4         1    999         0  nonexistent"
            ]
          },
          "metadata": {
            "tags": []
          },
          "execution_count": 94
        }
      ]
    },
    {
      "cell_type": "code",
      "metadata": {
        "colab": {
          "base_uri": "https://localhost:8080/"
        },
        "id": "HQ0YAz3joqFz",
        "outputId": "4ad8a1f1-042a-40a8-9499-f6ceca49fd04"
      },
      "source": [
        "bank_o['poutcome'].unique()"
      ],
      "execution_count": null,
      "outputs": [
        {
          "output_type": "execute_result",
          "data": {
            "text/plain": [
              "array(['nonexistent', 'failure', 'success'], dtype=object)"
            ]
          },
          "metadata": {
            "tags": []
          },
          "execution_count": 95
        }
      ]
    },
    {
      "cell_type": "code",
      "metadata": {
        "id": "2fXND9v0o3bB"
      },
      "source": [
        "bank_o['poutcome'].replace(['nonexistent', 'failure', 'success'], [1,2,3], inplace  = True)"
      ],
      "execution_count": null,
      "outputs": []
    },
    {
      "cell_type": "markdown",
      "metadata": {
        "id": "l_snx27hzAo4"
      },
      "source": [
        "### Post-Processing Dataframe"
      ]
    },
    {
      "cell_type": "code",
      "metadata": {
        "colab": {
          "base_uri": "https://localhost:8080/",
          "height": 226
        },
        "id": "vRdNgQLVo5Tp",
        "outputId": "e28e01d5-8322-4c30-fb5d-02ffc2dec7cd"
      },
      "source": [
        "bank_final= pd.concat([bank_client, bank_related, bank_se, bank_o, df['y']], axis = 1)\n",
        "bank_final = bank_final[['age', 'job', 'marital', 'education', 'default', 'housing', 'loan',\n",
        "                     'contact', 'month', 'day_of_week', 'duration', 'emp.var.rate', 'cons.price.idx', \n",
        "                     'cons.conf.idx', 'euribor3m', 'nr.employed', 'campaign', 'pdays', 'previous', 'poutcome','y']]\n",
        "bank_final.head()"
      ],
      "execution_count": null,
      "outputs": [
        {
          "output_type": "execute_result",
          "data": {
            "text/html": [
              "<div>\n",
              "<style scoped>\n",
              "    .dataframe tbody tr th:only-of-type {\n",
              "        vertical-align: middle;\n",
              "    }\n",
              "\n",
              "    .dataframe tbody tr th {\n",
              "        vertical-align: top;\n",
              "    }\n",
              "\n",
              "    .dataframe thead th {\n",
              "        text-align: right;\n",
              "    }\n",
              "</style>\n",
              "<table border=\"1\" class=\"dataframe\">\n",
              "  <thead>\n",
              "    <tr style=\"text-align: right;\">\n",
              "      <th></th>\n",
              "      <th>age</th>\n",
              "      <th>job</th>\n",
              "      <th>marital</th>\n",
              "      <th>education</th>\n",
              "      <th>default</th>\n",
              "      <th>housing</th>\n",
              "      <th>loan</th>\n",
              "      <th>contact</th>\n",
              "      <th>month</th>\n",
              "      <th>day_of_week</th>\n",
              "      <th>duration</th>\n",
              "      <th>emp.var.rate</th>\n",
              "      <th>cons.price.idx</th>\n",
              "      <th>cons.conf.idx</th>\n",
              "      <th>euribor3m</th>\n",
              "      <th>nr.employed</th>\n",
              "      <th>campaign</th>\n",
              "      <th>pdays</th>\n",
              "      <th>previous</th>\n",
              "      <th>poutcome</th>\n",
              "      <th>y</th>\n",
              "    </tr>\n",
              "  </thead>\n",
              "  <tbody>\n",
              "    <tr>\n",
              "      <th>0</th>\n",
              "      <td>3</td>\n",
              "      <td>1</td>\n",
              "      <td>1</td>\n",
              "      <td>1</td>\n",
              "      <td>2</td>\n",
              "      <td>2</td>\n",
              "      <td>2</td>\n",
              "      <td>1</td>\n",
              "      <td>1</td>\n",
              "      <td>1</td>\n",
              "      <td>3</td>\n",
              "      <td>1.1</td>\n",
              "      <td>93.994</td>\n",
              "      <td>-36.4</td>\n",
              "      <td>4.857</td>\n",
              "      <td>5191.0</td>\n",
              "      <td>1</td>\n",
              "      <td>999</td>\n",
              "      <td>0</td>\n",
              "      <td>1</td>\n",
              "      <td>no</td>\n",
              "    </tr>\n",
              "    <tr>\n",
              "      <th>1</th>\n",
              "      <td>3</td>\n",
              "      <td>2</td>\n",
              "      <td>1</td>\n",
              "      <td>2</td>\n",
              "      <td>3</td>\n",
              "      <td>2</td>\n",
              "      <td>2</td>\n",
              "      <td>1</td>\n",
              "      <td>1</td>\n",
              "      <td>1</td>\n",
              "      <td>2</td>\n",
              "      <td>1.1</td>\n",
              "      <td>93.994</td>\n",
              "      <td>-36.4</td>\n",
              "      <td>4.857</td>\n",
              "      <td>5191.0</td>\n",
              "      <td>1</td>\n",
              "      <td>999</td>\n",
              "      <td>0</td>\n",
              "      <td>1</td>\n",
              "      <td>no</td>\n",
              "    </tr>\n",
              "    <tr>\n",
              "      <th>2</th>\n",
              "      <td>2</td>\n",
              "      <td>2</td>\n",
              "      <td>1</td>\n",
              "      <td>2</td>\n",
              "      <td>2</td>\n",
              "      <td>1</td>\n",
              "      <td>2</td>\n",
              "      <td>1</td>\n",
              "      <td>1</td>\n",
              "      <td>1</td>\n",
              "      <td>3</td>\n",
              "      <td>1.1</td>\n",
              "      <td>93.994</td>\n",
              "      <td>-36.4</td>\n",
              "      <td>4.857</td>\n",
              "      <td>5191.0</td>\n",
              "      <td>1</td>\n",
              "      <td>999</td>\n",
              "      <td>0</td>\n",
              "      <td>1</td>\n",
              "      <td>no</td>\n",
              "    </tr>\n",
              "    <tr>\n",
              "      <th>3</th>\n",
              "      <td>2</td>\n",
              "      <td>3</td>\n",
              "      <td>1</td>\n",
              "      <td>3</td>\n",
              "      <td>2</td>\n",
              "      <td>2</td>\n",
              "      <td>2</td>\n",
              "      <td>1</td>\n",
              "      <td>1</td>\n",
              "      <td>1</td>\n",
              "      <td>2</td>\n",
              "      <td>1.1</td>\n",
              "      <td>93.994</td>\n",
              "      <td>-36.4</td>\n",
              "      <td>4.857</td>\n",
              "      <td>5191.0</td>\n",
              "      <td>1</td>\n",
              "      <td>999</td>\n",
              "      <td>0</td>\n",
              "      <td>1</td>\n",
              "      <td>no</td>\n",
              "    </tr>\n",
              "    <tr>\n",
              "      <th>4</th>\n",
              "      <td>3</td>\n",
              "      <td>2</td>\n",
              "      <td>1</td>\n",
              "      <td>2</td>\n",
              "      <td>2</td>\n",
              "      <td>2</td>\n",
              "      <td>1</td>\n",
              "      <td>1</td>\n",
              "      <td>1</td>\n",
              "      <td>1</td>\n",
              "      <td>3</td>\n",
              "      <td>1.1</td>\n",
              "      <td>93.994</td>\n",
              "      <td>-36.4</td>\n",
              "      <td>4.857</td>\n",
              "      <td>5191.0</td>\n",
              "      <td>1</td>\n",
              "      <td>999</td>\n",
              "      <td>0</td>\n",
              "      <td>1</td>\n",
              "      <td>no</td>\n",
              "    </tr>\n",
              "  </tbody>\n",
              "</table>\n",
              "</div>"
            ],
            "text/plain": [
              "   age  job  marital  education  ...  pdays  previous  poutcome   y\n",
              "0    3    1        1          1  ...    999         0         1  no\n",
              "1    3    2        1          2  ...    999         0         1  no\n",
              "2    2    2        1          2  ...    999         0         1  no\n",
              "3    2    3        1          3  ...    999         0         1  no\n",
              "4    3    2        1          2  ...    999         0         1  no\n",
              "\n",
              "[5 rows x 21 columns]"
            ]
          },
          "metadata": {
            "tags": []
          },
          "execution_count": 97
        }
      ]
    },
    {
      "cell_type": "code",
      "metadata": {
        "id": "PEf8yeBeipKK"
      },
      "source": [
        "bank_final['y'].replace(['no', 'yes'], [0,1], inplace  = True)"
      ],
      "execution_count": null,
      "outputs": []
    },
    {
      "cell_type": "code",
      "metadata": {
        "colab": {
          "base_uri": "https://localhost:8080/"
        },
        "id": "p8sZ7acwpEPH",
        "outputId": "1aa6787c-87f5-4bde-9590-235cfd6d643f"
      },
      "source": [
        "bank_final.shape"
      ],
      "execution_count": null,
      "outputs": [
        {
          "output_type": "execute_result",
          "data": {
            "text/plain": [
              "(41188, 21)"
            ]
          },
          "metadata": {
            "tags": []
          },
          "execution_count": 99
        }
      ]
    },
    {
      "cell_type": "code",
      "metadata": {
        "id": "1tzTxQCj1rqd"
      },
      "source": [
        "bank_final_random = bank_final.sample(frac = 1)"
      ],
      "execution_count": null,
      "outputs": []
    },
    {
      "cell_type": "code",
      "metadata": {
        "colab": {
          "base_uri": "https://localhost:8080/",
          "height": 226
        },
        "id": "T5LrKzxL2uTD",
        "outputId": "37a46c6c-b06d-47a1-deae-92d30e133c7f"
      },
      "source": [
        "bank_final_random.head()"
      ],
      "execution_count": null,
      "outputs": [
        {
          "output_type": "execute_result",
          "data": {
            "text/html": [
              "<div>\n",
              "<style scoped>\n",
              "    .dataframe tbody tr th:only-of-type {\n",
              "        vertical-align: middle;\n",
              "    }\n",
              "\n",
              "    .dataframe tbody tr th {\n",
              "        vertical-align: top;\n",
              "    }\n",
              "\n",
              "    .dataframe thead th {\n",
              "        text-align: right;\n",
              "    }\n",
              "</style>\n",
              "<table border=\"1\" class=\"dataframe\">\n",
              "  <thead>\n",
              "    <tr style=\"text-align: right;\">\n",
              "      <th></th>\n",
              "      <th>age</th>\n",
              "      <th>job</th>\n",
              "      <th>marital</th>\n",
              "      <th>education</th>\n",
              "      <th>default</th>\n",
              "      <th>housing</th>\n",
              "      <th>loan</th>\n",
              "      <th>contact</th>\n",
              "      <th>month</th>\n",
              "      <th>day_of_week</th>\n",
              "      <th>duration</th>\n",
              "      <th>emp.var.rate</th>\n",
              "      <th>cons.price.idx</th>\n",
              "      <th>cons.conf.idx</th>\n",
              "      <th>euribor3m</th>\n",
              "      <th>nr.employed</th>\n",
              "      <th>campaign</th>\n",
              "      <th>pdays</th>\n",
              "      <th>previous</th>\n",
              "      <th>poutcome</th>\n",
              "      <th>y</th>\n",
              "    </tr>\n",
              "  </thead>\n",
              "  <tbody>\n",
              "    <tr>\n",
              "      <th>31460</th>\n",
              "      <td>3</td>\n",
              "      <td>6</td>\n",
              "      <td>1</td>\n",
              "      <td>1</td>\n",
              "      <td>2</td>\n",
              "      <td>1</td>\n",
              "      <td>2</td>\n",
              "      <td>2</td>\n",
              "      <td>1</td>\n",
              "      <td>3</td>\n",
              "      <td>4</td>\n",
              "      <td>-1.8</td>\n",
              "      <td>92.893</td>\n",
              "      <td>-46.2</td>\n",
              "      <td>1.334</td>\n",
              "      <td>5099.1</td>\n",
              "      <td>2</td>\n",
              "      <td>999</td>\n",
              "      <td>1</td>\n",
              "      <td>2</td>\n",
              "      <td>0</td>\n",
              "    </tr>\n",
              "    <tr>\n",
              "      <th>36502</th>\n",
              "      <td>1</td>\n",
              "      <td>4</td>\n",
              "      <td>2</td>\n",
              "      <td>2</td>\n",
              "      <td>2</td>\n",
              "      <td>1</td>\n",
              "      <td>2</td>\n",
              "      <td>2</td>\n",
              "      <td>2</td>\n",
              "      <td>3</td>\n",
              "      <td>1</td>\n",
              "      <td>-2.9</td>\n",
              "      <td>92.963</td>\n",
              "      <td>-40.8</td>\n",
              "      <td>1.260</td>\n",
              "      <td>5076.2</td>\n",
              "      <td>2</td>\n",
              "      <td>999</td>\n",
              "      <td>0</td>\n",
              "      <td>1</td>\n",
              "      <td>0</td>\n",
              "    </tr>\n",
              "    <tr>\n",
              "      <th>17185</th>\n",
              "      <td>3</td>\n",
              "      <td>5</td>\n",
              "      <td>1</td>\n",
              "      <td>6</td>\n",
              "      <td>3</td>\n",
              "      <td>1</td>\n",
              "      <td>2</td>\n",
              "      <td>2</td>\n",
              "      <td>3</td>\n",
              "      <td>5</td>\n",
              "      <td>2</td>\n",
              "      <td>1.4</td>\n",
              "      <td>93.918</td>\n",
              "      <td>-42.7</td>\n",
              "      <td>4.962</td>\n",
              "      <td>5228.1</td>\n",
              "      <td>1</td>\n",
              "      <td>999</td>\n",
              "      <td>0</td>\n",
              "      <td>1</td>\n",
              "      <td>0</td>\n",
              "    </tr>\n",
              "    <tr>\n",
              "      <th>10836</th>\n",
              "      <td>1</td>\n",
              "      <td>2</td>\n",
              "      <td>1</td>\n",
              "      <td>2</td>\n",
              "      <td>2</td>\n",
              "      <td>1</td>\n",
              "      <td>2</td>\n",
              "      <td>1</td>\n",
              "      <td>2</td>\n",
              "      <td>3</td>\n",
              "      <td>4</td>\n",
              "      <td>1.4</td>\n",
              "      <td>94.465</td>\n",
              "      <td>-41.8</td>\n",
              "      <td>4.962</td>\n",
              "      <td>5228.1</td>\n",
              "      <td>2</td>\n",
              "      <td>999</td>\n",
              "      <td>0</td>\n",
              "      <td>1</td>\n",
              "      <td>0</td>\n",
              "    </tr>\n",
              "    <tr>\n",
              "      <th>25745</th>\n",
              "      <td>1</td>\n",
              "      <td>4</td>\n",
              "      <td>1</td>\n",
              "      <td>5</td>\n",
              "      <td>2</td>\n",
              "      <td>2</td>\n",
              "      <td>2</td>\n",
              "      <td>2</td>\n",
              "      <td>6</td>\n",
              "      <td>3</td>\n",
              "      <td>4</td>\n",
              "      <td>-0.1</td>\n",
              "      <td>93.200</td>\n",
              "      <td>-42.0</td>\n",
              "      <td>4.120</td>\n",
              "      <td>5195.8</td>\n",
              "      <td>1</td>\n",
              "      <td>999</td>\n",
              "      <td>1</td>\n",
              "      <td>2</td>\n",
              "      <td>0</td>\n",
              "    </tr>\n",
              "  </tbody>\n",
              "</table>\n",
              "</div>"
            ],
            "text/plain": [
              "       age  job  marital  education  ...  pdays  previous  poutcome  y\n",
              "31460    3    6        1          1  ...    999         1         2  0\n",
              "36502    1    4        2          2  ...    999         0         1  0\n",
              "17185    3    5        1          6  ...    999         0         1  0\n",
              "10836    1    2        1          2  ...    999         0         1  0\n",
              "25745    1    4        1          5  ...    999         1         2  0\n",
              "\n",
              "[5 rows x 21 columns]"
            ]
          },
          "metadata": {
            "tags": []
          },
          "execution_count": 101
        }
      ]
    },
    {
      "cell_type": "code",
      "metadata": {
        "colab": {
          "base_uri": "https://localhost:8080/"
        },
        "id": "fh81crUP3z3W",
        "outputId": "f5bfc958-8272-4c63-a021-0102179cac30"
      },
      "source": [
        "bank_final_random.shape"
      ],
      "execution_count": null,
      "outputs": [
        {
          "output_type": "execute_result",
          "data": {
            "text/plain": [
              "(41188, 21)"
            ]
          },
          "metadata": {
            "tags": []
          },
          "execution_count": 102
        }
      ]
    },
    {
      "cell_type": "markdown",
      "metadata": {
        "id": "e4rYfg6HzAo5"
      },
      "source": [
        "## KNN Preparation"
      ]
    },
    {
      "cell_type": "markdown",
      "metadata": {
        "id": "LA_PIAt3zAo5"
      },
      "source": [
        "### Train and Validation Data"
      ]
    },
    {
      "cell_type": "markdown",
      "metadata": {
        "id": "P0PI5u8JzAo5"
      },
      "source": [
        "On this KNN Algorithm, We devided 70% Train Data, 20% Validation Data, and 10% Test Data\n",
        "Used 3 case to train our data. as the picture below : "
      ]
    },
    {
      "cell_type": "markdown",
      "metadata": {
        "id": "h6g8YcCTzAo6"
      },
      "source": [
        "![Train.png](attachment:Train.png)"
      ]
    },
    {
      "cell_type": "markdown",
      "metadata": {
        "id": "QQFgO0Z4zAo6"
      },
      "source": [
        "### Upper and Lower Limit"
      ]
    },
    {
      "cell_type": "markdown",
      "metadata": {
        "id": "NDyvaEnszAo6"
      },
      "source": [
        "Case 1"
      ]
    },
    {
      "cell_type": "code",
      "metadata": {
        "colab": {
          "base_uri": "https://localhost:8080/"
        },
        "id": "dug77Jhd31X4",
        "outputId": "ad2eb10a-4782-4674-ded1-e398dcd78740"
      },
      "source": [
        "length_train_low = int(bank_final_random.shape[0]*0)\n",
        "length_train_up = int(bank_final_random.shape[0]*0.7)\n",
        "\n",
        "length_val_low = int(bank_final_random.shape[0]*0.7)\n",
        "length_val_up = int(bank_final_random.shape[0]*0.9)\n",
        "\n",
        "length_test_low = int(bank_final_random.shape[0]*0.9)\n",
        "length_test_up = int(bank_final_random.shape[0]*1)\n",
        "\n",
        "print(length_train_low, length_train_up)\n",
        "print(length_val_low, length_val_up)\n",
        "print(length_test_low, length_test_up)"
      ],
      "execution_count": null,
      "outputs": [
        {
          "output_type": "stream",
          "text": [
            "0 28831\n",
            "28831 37069\n",
            "37069 41188\n"
          ],
          "name": "stdout"
        }
      ]
    },
    {
      "cell_type": "markdown",
      "metadata": {
        "id": "AxueblWYBSUg"
      },
      "source": [
        "### Case 2"
      ]
    },
    {
      "cell_type": "code",
      "metadata": {
        "id": "7yGFoG5FBXxC"
      },
      "source": [
        "#length_train_low = int(bank_final_random.shape[0]*0.3)\n",
        "#length_train_up = int(bank_final_random.shape[0]*1)\n",
        "\n",
        "#length_val_low = int(bank_final_random.shape[0]*0.1)\n",
        "#length_val_up = int(bank_final_random.shape[0]*0.3)\n",
        "\n",
        "#length_test_low = int(bank_final_random.shape[0]*0)\n",
        "#length_test_up = int(bank_final_random.shape[0]*0.1)\n",
        "\n",
        "#print(length_train_low, length_train_up)\n",
        "#print(length_val_low, length_val_up)\n",
        "#print(length_test_low, length_test_up)"
      ],
      "execution_count": null,
      "outputs": []
    },
    {
      "cell_type": "markdown",
      "metadata": {
        "id": "qzdADAz4BwV-"
      },
      "source": [
        "### Case 3"
      ]
    },
    {
      "cell_type": "code",
      "metadata": {
        "id": "UOjiITeOBvQR"
      },
      "source": [
        "#length_train_low = int(bank_final_random.shape[0]*0.1)\n",
        "#length_train_up = int(bank_final_random.shape[0]*0.8)\n",
        "\n",
        "#length_val_low = int(bank_final_random.shape[0]*0.8)\n",
        "#length_val_up = int(bank_final_random.shape[0]*1)\n",
        "\n",
        "#length_test_low = int(bank_final_random.shape[0]*0)\n",
        "#length_test_up = int(bank_final_random.shape[0]*0.1)\n",
        "\n",
        "#print(length_train_low, length_train_up)\n",
        "#print(length_val_low, length_val_up)\n",
        "#print(length_test_low, length_test_up)"
      ],
      "execution_count": null,
      "outputs": []
    },
    {
      "cell_type": "markdown",
      "metadata": {
        "id": "YAg6DG3SzAo6"
      },
      "source": [
        "#### Splitting Data & Rename Column Name"
      ]
    },
    {
      "cell_type": "code",
      "metadata": {
        "colab": {
          "base_uri": "https://localhost:8080/",
          "height": 426
        },
        "id": "cSYqF5XY4cDD",
        "outputId": "a88c38ed-2c14-4499-edec-b7ac03ffb76a"
      },
      "source": [
        "train_bank_final = bank_final_random.iloc[length_train_low:length_train_up,:]\n",
        "validate_bank_final = bank_final_random.iloc[length_val_low:length_val_up,:]\n",
        "test_bank_final = bank_final_random.iloc[length_test_low:length_test_up,:].reset_index().drop([\"index\"],axis=1)\n",
        "\n",
        "train_bank_final.rename(columns={'age':'','job':'','marital':'','education':'','default':'','housing':'','loan':'','contact':'','month':'','day_of_week':'','duration':'','emp.var.rate':'','cons.price.idx':'','cons.conf.idx':'','euribor3m':'','nr.employed':'','campaign':'','pdays':'','previous':'','poutcome':'','y':''})\n",
        "validate_bank_final.rename(columns={'age':'','job':'','marital':'','education':'','default':'','housing':'','loan':'','contact':'','month':'','day_of_week':'','duration':'','emp.var.rate':'','cons.price.idx':'','cons.conf.idx':'','euribor3m':'','nr.employed':'','campaign':'','pdays':'','previous':'','poutcome':'','y':''})\n",
        "test_bank_final.rename(columns={'age':'','job':'','marital':'','education':'','default':'','housing':'','loan':'','contact':'','month':'','day_of_week':'','duration':'','emp.var.rate':'','cons.price.idx':'','cons.conf.idx':'','euribor3m':'','nr.employed':'','campaign':'','pdays':'','previous':'','poutcome':'','y':''})"
      ],
      "execution_count": null,
      "outputs": [
        {
          "output_type": "execute_result",
          "data": {
            "text/html": [
              "<div>\n",
              "<style scoped>\n",
              "    .dataframe tbody tr th:only-of-type {\n",
              "        vertical-align: middle;\n",
              "    }\n",
              "\n",
              "    .dataframe tbody tr th {\n",
              "        vertical-align: top;\n",
              "    }\n",
              "\n",
              "    .dataframe thead th {\n",
              "        text-align: right;\n",
              "    }\n",
              "</style>\n",
              "<table border=\"1\" class=\"dataframe\">\n",
              "  <thead>\n",
              "    <tr style=\"text-align: right;\">\n",
              "      <th></th>\n",
              "      <th></th>\n",
              "      <th></th>\n",
              "      <th></th>\n",
              "      <th></th>\n",
              "      <th></th>\n",
              "      <th></th>\n",
              "      <th></th>\n",
              "      <th></th>\n",
              "      <th></th>\n",
              "      <th></th>\n",
              "      <th></th>\n",
              "      <th></th>\n",
              "      <th></th>\n",
              "      <th></th>\n",
              "      <th></th>\n",
              "      <th></th>\n",
              "      <th></th>\n",
              "      <th></th>\n",
              "      <th></th>\n",
              "      <th></th>\n",
              "      <th></th>\n",
              "    </tr>\n",
              "  </thead>\n",
              "  <tbody>\n",
              "    <tr>\n",
              "      <th>0</th>\n",
              "      <td>1</td>\n",
              "      <td>5</td>\n",
              "      <td>2</td>\n",
              "      <td>2</td>\n",
              "      <td>2</td>\n",
              "      <td>1</td>\n",
              "      <td>2</td>\n",
              "      <td>2</td>\n",
              "      <td>4</td>\n",
              "      <td>4</td>\n",
              "      <td>3</td>\n",
              "      <td>1.4</td>\n",
              "      <td>93.444</td>\n",
              "      <td>-36.1</td>\n",
              "      <td>4.963</td>\n",
              "      <td>5228.1</td>\n",
              "      <td>1</td>\n",
              "      <td>999</td>\n",
              "      <td>0</td>\n",
              "      <td>1</td>\n",
              "      <td>0</td>\n",
              "    </tr>\n",
              "    <tr>\n",
              "      <th>1</th>\n",
              "      <td>2</td>\n",
              "      <td>2</td>\n",
              "      <td>1</td>\n",
              "      <td>2</td>\n",
              "      <td>3</td>\n",
              "      <td>1</td>\n",
              "      <td>2</td>\n",
              "      <td>2</td>\n",
              "      <td>4</td>\n",
              "      <td>5</td>\n",
              "      <td>4</td>\n",
              "      <td>1.4</td>\n",
              "      <td>93.444</td>\n",
              "      <td>-36.1</td>\n",
              "      <td>4.966</td>\n",
              "      <td>5228.1</td>\n",
              "      <td>2</td>\n",
              "      <td>999</td>\n",
              "      <td>0</td>\n",
              "      <td>1</td>\n",
              "      <td>0</td>\n",
              "    </tr>\n",
              "    <tr>\n",
              "      <th>2</th>\n",
              "      <td>3</td>\n",
              "      <td>5</td>\n",
              "      <td>1</td>\n",
              "      <td>5</td>\n",
              "      <td>3</td>\n",
              "      <td>2</td>\n",
              "      <td>2</td>\n",
              "      <td>1</td>\n",
              "      <td>1</td>\n",
              "      <td>3</td>\n",
              "      <td>3</td>\n",
              "      <td>1.1</td>\n",
              "      <td>93.994</td>\n",
              "      <td>-36.4</td>\n",
              "      <td>4.857</td>\n",
              "      <td>5191.0</td>\n",
              "      <td>4</td>\n",
              "      <td>999</td>\n",
              "      <td>0</td>\n",
              "      <td>1</td>\n",
              "      <td>0</td>\n",
              "    </tr>\n",
              "    <tr>\n",
              "      <th>3</th>\n",
              "      <td>2</td>\n",
              "      <td>4</td>\n",
              "      <td>3</td>\n",
              "      <td>1</td>\n",
              "      <td>2</td>\n",
              "      <td>1</td>\n",
              "      <td>2</td>\n",
              "      <td>1</td>\n",
              "      <td>1</td>\n",
              "      <td>3</td>\n",
              "      <td>3</td>\n",
              "      <td>1.1</td>\n",
              "      <td>93.994</td>\n",
              "      <td>-36.4</td>\n",
              "      <td>4.858</td>\n",
              "      <td>5191.0</td>\n",
              "      <td>1</td>\n",
              "      <td>999</td>\n",
              "      <td>0</td>\n",
              "      <td>1</td>\n",
              "      <td>0</td>\n",
              "    </tr>\n",
              "    <tr>\n",
              "      <th>4</th>\n",
              "      <td>1</td>\n",
              "      <td>7</td>\n",
              "      <td>2</td>\n",
              "      <td>7</td>\n",
              "      <td>2</td>\n",
              "      <td>1</td>\n",
              "      <td>2</td>\n",
              "      <td>2</td>\n",
              "      <td>6</td>\n",
              "      <td>3</td>\n",
              "      <td>4</td>\n",
              "      <td>-0.1</td>\n",
              "      <td>93.200</td>\n",
              "      <td>-42.0</td>\n",
              "      <td>4.120</td>\n",
              "      <td>5195.8</td>\n",
              "      <td>2</td>\n",
              "      <td>999</td>\n",
              "      <td>0</td>\n",
              "      <td>1</td>\n",
              "      <td>1</td>\n",
              "    </tr>\n",
              "    <tr>\n",
              "      <th>...</th>\n",
              "      <td>...</td>\n",
              "      <td>...</td>\n",
              "      <td>...</td>\n",
              "      <td>...</td>\n",
              "      <td>...</td>\n",
              "      <td>...</td>\n",
              "      <td>...</td>\n",
              "      <td>...</td>\n",
              "      <td>...</td>\n",
              "      <td>...</td>\n",
              "      <td>...</td>\n",
              "      <td>...</td>\n",
              "      <td>...</td>\n",
              "      <td>...</td>\n",
              "      <td>...</td>\n",
              "      <td>...</td>\n",
              "      <td>...</td>\n",
              "      <td>...</td>\n",
              "      <td>...</td>\n",
              "      <td>...</td>\n",
              "      <td>...</td>\n",
              "    </tr>\n",
              "    <tr>\n",
              "      <th>4114</th>\n",
              "      <td>2</td>\n",
              "      <td>5</td>\n",
              "      <td>1</td>\n",
              "      <td>5</td>\n",
              "      <td>2</td>\n",
              "      <td>1</td>\n",
              "      <td>2</td>\n",
              "      <td>2</td>\n",
              "      <td>1</td>\n",
              "      <td>3</td>\n",
              "      <td>1</td>\n",
              "      <td>-1.8</td>\n",
              "      <td>92.893</td>\n",
              "      <td>-46.2</td>\n",
              "      <td>1.281</td>\n",
              "      <td>5099.1</td>\n",
              "      <td>5</td>\n",
              "      <td>999</td>\n",
              "      <td>0</td>\n",
              "      <td>1</td>\n",
              "      <td>0</td>\n",
              "    </tr>\n",
              "    <tr>\n",
              "      <th>4115</th>\n",
              "      <td>1</td>\n",
              "      <td>5</td>\n",
              "      <td>2</td>\n",
              "      <td>5</td>\n",
              "      <td>2</td>\n",
              "      <td>2</td>\n",
              "      <td>2</td>\n",
              "      <td>1</td>\n",
              "      <td>2</td>\n",
              "      <td>5</td>\n",
              "      <td>3</td>\n",
              "      <td>1.4</td>\n",
              "      <td>94.465</td>\n",
              "      <td>-41.8</td>\n",
              "      <td>4.959</td>\n",
              "      <td>5228.1</td>\n",
              "      <td>4</td>\n",
              "      <td>999</td>\n",
              "      <td>0</td>\n",
              "      <td>1</td>\n",
              "      <td>0</td>\n",
              "    </tr>\n",
              "    <tr>\n",
              "      <th>4116</th>\n",
              "      <td>3</td>\n",
              "      <td>3</td>\n",
              "      <td>2</td>\n",
              "      <td>2</td>\n",
              "      <td>2</td>\n",
              "      <td>2</td>\n",
              "      <td>2</td>\n",
              "      <td>2</td>\n",
              "      <td>3</td>\n",
              "      <td>5</td>\n",
              "      <td>2</td>\n",
              "      <td>1.4</td>\n",
              "      <td>93.918</td>\n",
              "      <td>-42.7</td>\n",
              "      <td>4.962</td>\n",
              "      <td>5228.1</td>\n",
              "      <td>2</td>\n",
              "      <td>999</td>\n",
              "      <td>0</td>\n",
              "      <td>1</td>\n",
              "      <td>0</td>\n",
              "    </tr>\n",
              "    <tr>\n",
              "      <th>4117</th>\n",
              "      <td>1</td>\n",
              "      <td>12</td>\n",
              "      <td>2</td>\n",
              "      <td>2</td>\n",
              "      <td>2</td>\n",
              "      <td>2</td>\n",
              "      <td>2</td>\n",
              "      <td>2</td>\n",
              "      <td>10</td>\n",
              "      <td>2</td>\n",
              "      <td>4</td>\n",
              "      <td>-1.1</td>\n",
              "      <td>94.199</td>\n",
              "      <td>-37.5</td>\n",
              "      <td>0.877</td>\n",
              "      <td>4963.6</td>\n",
              "      <td>2</td>\n",
              "      <td>3</td>\n",
              "      <td>1</td>\n",
              "      <td>3</td>\n",
              "      <td>0</td>\n",
              "    </tr>\n",
              "    <tr>\n",
              "      <th>4118</th>\n",
              "      <td>2</td>\n",
              "      <td>11</td>\n",
              "      <td>1</td>\n",
              "      <td>7</td>\n",
              "      <td>3</td>\n",
              "      <td>1</td>\n",
              "      <td>2</td>\n",
              "      <td>2</td>\n",
              "      <td>3</td>\n",
              "      <td>4</td>\n",
              "      <td>1</td>\n",
              "      <td>1.4</td>\n",
              "      <td>93.918</td>\n",
              "      <td>-42.7</td>\n",
              "      <td>4.968</td>\n",
              "      <td>5228.1</td>\n",
              "      <td>7</td>\n",
              "      <td>999</td>\n",
              "      <td>0</td>\n",
              "      <td>1</td>\n",
              "      <td>0</td>\n",
              "    </tr>\n",
              "  </tbody>\n",
              "</table>\n",
              "<p>4119 rows × 21 columns</p>\n",
              "</div>"
            ],
            "text/plain": [
              "                                   ...                                              \n",
              "0     1   5  2  2  2  1  2  2   4  ...  93.444 -36.1  4.963  5228.1  1  999  0  1  0\n",
              "1     2   2  1  2  3  1  2  2   4  ...  93.444 -36.1  4.966  5228.1  2  999  0  1  0\n",
              "2     3   5  1  5  3  2  2  1   1  ...  93.994 -36.4  4.857  5191.0  4  999  0  1  0\n",
              "3     2   4  3  1  2  1  2  1   1  ...  93.994 -36.4  4.858  5191.0  1  999  0  1  0\n",
              "4     1   7  2  7  2  1  2  2   6  ...  93.200 -42.0  4.120  5195.8  2  999  0  1  1\n",
              "...  ..  .. .. .. .. .. .. ..  ..  ...     ...   ...    ...     ... ..  ... .. .. ..\n",
              "4114  2   5  1  5  2  1  2  2   1  ...  92.893 -46.2  1.281  5099.1  5  999  0  1  0\n",
              "4115  1   5  2  5  2  2  2  1   2  ...  94.465 -41.8  4.959  5228.1  4  999  0  1  0\n",
              "4116  3   3  2  2  2  2  2  2   3  ...  93.918 -42.7  4.962  5228.1  2  999  0  1  0\n",
              "4117  1  12  2  2  2  2  2  2  10  ...  94.199 -37.5  0.877  4963.6  2    3  1  3  0\n",
              "4118  2  11  1  7  3  1  2  2   3  ...  93.918 -42.7  4.968  5228.1  7  999  0  1  0\n",
              "\n",
              "[4119 rows x 21 columns]"
            ]
          },
          "metadata": {
            "tags": []
          },
          "execution_count": 104
        }
      ]
    },
    {
      "cell_type": "code",
      "metadata": {
        "id": "Mp-rh0GsiC5I"
      },
      "source": [
        "train_bank_final = train_bank_final.astype(float).values.tolist()\n",
        "validate_bank_final = validate_bank_final.astype(float).values.tolist()\n",
        "test_bank_final = test_bank_final.astype(float).values.tolist()"
      ],
      "execution_count": null,
      "outputs": []
    },
    {
      "cell_type": "markdown",
      "metadata": {
        "id": "84fTXA_ozAo7"
      },
      "source": [
        "#### Create train_set, test_set, and validate_set"
      ]
    },
    {
      "cell_type": "code",
      "metadata": {
        "id": "jqZpglJ4i_O_"
      },
      "source": [
        "# dictionaries have to keys: 0 for no and 1 for yes\n",
        "train_set={0:[],1:[]}\n",
        "test_set={0: [],1:[]}\n",
        "validate_set={0:[],1: []}\n",
        "for i in train_bank_final:\n",
        "  train_set[i[-1]].append(i[:-1]) # appending list to last element\n",
        "for i in test_bank_final:\n",
        "  test_set[i[-1]].append(i[:-1])\n",
        "for i in validate_bank_final:\n",
        "  validate_set[i[-1]].append(i[:-1])"
      ],
      "execution_count": null,
      "outputs": []
    },
    {
      "cell_type": "markdown",
      "metadata": {
        "id": "InZdhXaEzAo7"
      },
      "source": [
        "#### Create KNN Algorithm Function"
      ]
    },
    {
      "cell_type": "code",
      "metadata": {
        "id": "d_LkQ9cX9RF8"
      },
      "source": [
        "def k_nearest_neighbors(data,predict,k):\n",
        "  distances=[]\n",
        "  for group in data:\n",
        "    for features in data[group]:\n",
        "      euclidean_distance = math.sqrt((features[0]-predict[0])**2 + (features[1]-predict[1])**2)\n",
        "      distances.append([euclidean_distance, group])\n",
        "  votes=[i[1] for i in sorted(distances)[:k]]\n",
        "  vote_result=Counter(votes).most_common(1)[0][0]\n",
        "  return vote_result"
      ],
      "execution_count": null,
      "outputs": []
    },
    {
      "cell_type": "markdown",
      "metadata": {
        "id": "IbH3RS_szAo7"
      },
      "source": [
        "#### Train The Model"
      ]
    },
    {
      "cell_type": "code",
      "metadata": {
        "colab": {
          "base_uri": "https://localhost:8080/"
        },
        "id": "_FGWtaGgN9y5",
        "outputId": "ae327663-c9db-403f-e8c1-849d69cfb4d3"
      },
      "source": [
        "k_range=range(1,5)\n",
        "correct = 0\n",
        "total = 0\n",
        "max_accuracy = 0.0\n",
        "optimal_k = 0\n",
        "accuracy = 0.0\n",
        "accuracies = []\n",
        "for k in k_range:\n",
        "  for group in validate_set:\n",
        "    for data in validate_set[group]:\n",
        "      vote=k_nearest_neighbors(train_set,data,k)\n",
        "      if group==vote:\n",
        "        correct+=1\n",
        "      total+=1\n",
        "      accuracy = correct/total\n",
        "  print(\"Accuracy with \", k, accuracy)\n",
        "  if max_accuracy < accuracy:\n",
        "    max_accuracy = accuracy\n",
        "    optimal_k = k\n",
        "  accuracies.append(accuracy)"
      ],
      "execution_count": null,
      "outputs": [
        {
          "output_type": "stream",
          "text": [
            "Accuracy with  1 0.8897790725904345\n",
            "Accuracy with  2 0.8897790725904345\n",
            "Accuracy with  3 0.8897386096949098\n",
            "Accuracy with  4 0.889748725418791\n"
          ],
          "name": "stdout"
        }
      ]
    },
    {
      "cell_type": "code",
      "metadata": {
        "colab": {
          "base_uri": "https://localhost:8080/"
        },
        "id": "BYshp2mDzAo8",
        "outputId": "80fa19a9-e338-4725-acda-b7030a49540a"
      },
      "source": [
        "print('max accuracy: ', max_accuracy)\n",
        "print('optimal k: ', optimal_k)"
      ],
      "execution_count": null,
      "outputs": [
        {
          "output_type": "stream",
          "text": [
            "max accuracy:  0.8897790725904345\n",
            "optimal k:  1\n"
          ],
          "name": "stdout"
        }
      ]
    },
    {
      "cell_type": "markdown",
      "metadata": {
        "id": "V4zQZbN_zAo8"
      },
      "source": [
        "#### Test The Model"
      ]
    },
    {
      "cell_type": "code",
      "metadata": {
        "colab": {
          "base_uri": "https://localhost:8080/"
        },
        "id": "W000p80ZzAo8",
        "outputId": "5a833936-ea12-4651-be1f-54dc9891c1ae"
      },
      "source": [
        "# test with test_set and optimal k then find accuracy\n",
        "for group in test_set:\n",
        "    for data in test_set[group]:\n",
        "        vote=k_nearest_neighbors(test_set,data,optimal_k)\n",
        "        if group==vote:\n",
        "            correct+=1\n",
        "        total+=1\n",
        "        accuracy=correct/total\n",
        "print('Accuracy: ', accuracy)"
      ],
      "execution_count": null,
      "outputs": [
        {
          "output_type": "stream",
          "text": [
            "Accuracy:  0.8890777157346713\n"
          ],
          "name": "stdout"
        }
      ]
    },
    {
      "cell_type": "code",
      "metadata": {
        "id": "ypQoaJTdzAo8"
      },
      "source": [
        ""
      ],
      "execution_count": null,
      "outputs": []
    }
  ]
}